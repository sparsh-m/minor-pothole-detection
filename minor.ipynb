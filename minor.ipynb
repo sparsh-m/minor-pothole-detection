{
 "cells": [
  {
   "cell_type": "markdown",
   "metadata": {
    "colab_type": "text",
    "id": "view-in-github"
   },
   "source": [
    "<a href=\"https://colab.research.google.com/github/Prady96/Pothole-Detection/blob/avi_testing/Final_file_for_tata_innoverse.ipynb\" target=\"_parent\"><img src=\"https://colab.research.google.com/assets/colab-badge.svg\" alt=\"Open In Colab\"/></a>"
   ]
  },
  {
   "cell_type": "code",
   "execution_count": 1,
   "metadata": {
    "colab": {
     "base_uri": "https://localhost:8080/",
     "height": 34
    },
    "colab_type": "code",
    "id": "obtqbVAKDU-S",
    "outputId": "d0ffcd8e-4fab-404b-99da-a22c56df4e6d"
   },
   "outputs": [
    {
     "name": "stdout",
     "output_type": "stream",
     "text": [
      "pip 19.1.1 from /usr/local/lib/python3.6/dist-packages/pip (python 3.6)\n"
     ]
    }
   ],
   "source": [
    "!pip -V"
   ]
  },
  {
   "cell_type": "code",
   "execution_count": 2,
   "metadata": {
    "colab": {
     "base_uri": "https://localhost:8080/",
     "height": 34
    },
    "colab_type": "code",
    "id": "qmrO-KmjDU7n",
    "outputId": "9e2cc3c1-11b2-468c-ae56-b1a24a62e168"
   },
   "outputs": [
    {
     "name": "stdout",
     "output_type": "stream",
     "text": [
      "Python 3.6.7\n"
     ]
    }
   ],
   "source": [
    "!python -V"
   ]
  },
  {
   "cell_type": "code",
   "execution_count": 0,
   "metadata": {
    "colab": {},
    "colab_type": "code",
    "id": "RbHkPfJ7DU3e"
   },
   "outputs": [],
   "source": []
  },
  {
   "cell_type": "code",
   "execution_count": 3,
   "metadata": {
    "colab": {
     "base_uri": "https://localhost:8080/",
     "height": 122
    },
    "colab_type": "code",
    "id": "SftwMhGqCZM9",
    "outputId": "dfc24858-a499-419e-c73c-1d8c906384f6"
   },
   "outputs": [
    {
     "name": "stdout",
     "output_type": "stream",
     "text": [
      "Collecting youtube-dl\n",
      "\u001b[?25l  Downloading https://files.pythonhosted.org/packages/45/60/3fc3026b82a3a0e37e6b598260c68abb446e7e85cba04318d2da17a95fac/youtube_dl-2019.5.20-py2.py3-none-any.whl (1.8MB)\n",
      "\u001b[K     |████████████████████████████████| 1.8MB 9.8MB/s \n",
      "\u001b[?25hInstalling collected packages: youtube-dl\n",
      "Successfully installed youtube-dl-2019.5.20\n"
     ]
    }
   ],
   "source": [
    "!pip install --upgrade youtube-dl"
   ]
  },
  {
   "cell_type": "code",
   "execution_count": 4,
   "metadata": {
    "colab": {
     "base_uri": "https://localhost:8080/",
     "height": 85
    },
    "colab_type": "code",
    "id": "02EK0w4HDQ6A",
    "outputId": "518fe919-4b04-4370-a6cf-14f318f8d53e"
   },
   "outputs": [
    {
     "name": "stdout",
     "output_type": "stream",
     "text": [
      "[GoogleDrive] 16-xNP_Ez-3WgFF3vfsP9KJl4ka9hXDlV: Downloading webpage\n",
      "[GoogleDrive] 16-xNP_Ez-3WgFF3vfsP9KJl4ka9hXDlV: Requesting source file\n",
      "[download] Destination: main_DataSETS_TRAIN.zip-16-xNP_Ez-3WgFF3vfsP9KJl4ka9hXDlV.zip\n",
      "\u001b[K[download] 100% of 2.79GiB in 00:21\n"
     ]
    }
   ],
   "source": [
    "!youtube-dl https://drive.google.com/file/d/16-xNP_Ez-3WgFF3vfsP9KJl4ka9hXDlV/view?usp=sharing"
   ]
  },
  {
   "cell_type": "code",
   "execution_count": 5,
   "metadata": {
    "colab": {
     "base_uri": "https://localhost:8080/",
     "height": 85
    },
    "colab_type": "code",
    "id": "0f4Gu0sADgkt",
    "outputId": "3c46af12-5838-4238-e17c-b01bb8ff69f5"
   },
   "outputs": [
    {
     "name": "stdout",
     "output_type": "stream",
     "text": [
      "[GoogleDrive] 1rP5tveZgNXJZe_uipJNWUaSqJiow_LGc: Downloading webpage\n",
      "[GoogleDrive] 1rP5tveZgNXJZe_uipJNWUaSqJiow_LGc: Requesting source file\n",
      "[download] Destination: main_DATASET_VAL.zip-1rP5tveZgNXJZe_uipJNWUaSqJiow_LGc.zip\n",
      "\u001b[K[download] 100% of 944.55MiB in 00:07\n"
     ]
    }
   ],
   "source": [
    "!youtube-dl https://drive.google.com/file/d/1rP5tveZgNXJZe_uipJNWUaSqJiow_LGc/view?usp=sharing"
   ]
  },
  {
   "cell_type": "code",
   "execution_count": 6,
   "metadata": {
    "colab": {
     "base_uri": "https://localhost:8080/",
     "height": 51
    },
    "colab_type": "code",
    "id": "fGH5EJclDn5t",
    "outputId": "1146f0b0-860f-4448-8a5a-4dbcc14b9b3f"
   },
   "outputs": [
    {
     "name": "stdout",
     "output_type": "stream",
     "text": [
      "main_DataSETS_TRAIN.zip-16-xNP_Ez-3WgFF3vfsP9KJl4ka9hXDlV.zip  sample_data\n",
      "main_DATASET_VAL.zip-1rP5tveZgNXJZe_uipJNWUaSqJiow_LGc.zip\n"
     ]
    }
   ],
   "source": [
    "!ls"
   ]
  },
  {
   "cell_type": "code",
   "execution_count": 0,
   "metadata": {
    "colab": {},
    "colab_type": "code",
    "id": "R5EQ6nVEDotV"
   },
   "outputs": [],
   "source": [
    "!mv main_DATASET_VAL.zip-1rP5tveZgNXJZe_uipJNWUaSqJiow_LGc.zip val.zip"
   ]
  },
  {
   "cell_type": "code",
   "execution_count": 0,
   "metadata": {
    "colab": {},
    "colab_type": "code",
    "id": "V4x06lMfDtms"
   },
   "outputs": [],
   "source": [
    "!mv main_DataSETS_TRAIN.zip-16-xNP_Ez-3WgFF3vfsP9KJl4ka9hXDlV.zip train.zip"
   ]
  },
  {
   "cell_type": "code",
   "execution_count": 9,
   "metadata": {
    "colab": {
     "base_uri": "https://localhost:8080/",
     "height": 34
    },
    "colab_type": "code",
    "id": "jw9wAkK1Dv0k",
    "outputId": "b4e0f407-3970-4918-9baf-0c53d11700da"
   },
   "outputs": [
    {
     "name": "stdout",
     "output_type": "stream",
     "text": [
      "sample_data  train.zip\tval.zip\n"
     ]
    }
   ],
   "source": [
    "!ls"
   ]
  },
  {
   "cell_type": "code",
   "execution_count": null,
   "metadata": {
    "colab": {
     "base_uri": "https://localhost:8080/",
     "height": 468231
    },
    "colab_type": "code",
    "id": "UtE_T1FJDwQr",
    "outputId": "245d1bef-0e7b-4325-bb79-86740b40a550"
   },
   "outputs": [],
   "source": [
    "!unzip train.zip\n",
    "!unzip val.zip"
   ]
  },
  {
   "cell_type": "code",
   "execution_count": 11,
   "metadata": {
    "colab": {
     "base_uri": "https://localhost:8080/",
     "height": 51
    },
    "colab_type": "code",
    "id": "3j2F2Z8eD0bb",
    "outputId": "041cfd62-974e-4db8-bb19-acc5d7b3055a"
   },
   "outputs": [
    {
     "name": "stdout",
     "output_type": "stream",
     "text": [
      "__MACOSX\t     main_DATASET_VAL  train.zip\n",
      "main_DataSETS_TRAIN  sample_data       val.zip\n"
     ]
    }
   ],
   "source": [
    "!ls"
   ]
  },
  {
   "cell_type": "code",
   "execution_count": 0,
   "metadata": {
    "colab": {},
    "colab_type": "code",
    "id": "TDk4gBtlEOiz"
   },
   "outputs": [],
   "source": [
    "!rm -rf train.zip\n",
    "!rm -rf val.zip\n",
    "!mv main_DATASET_VAL/ val\n",
    "!mv main_DataSETS_TRAIN/ train"
   ]
  },
  {
   "cell_type": "code",
   "execution_count": 13,
   "metadata": {
    "colab": {
     "base_uri": "https://localhost:8080/",
     "height": 34
    },
    "colab_type": "code",
    "id": "G_TFFOloEXiP",
    "outputId": "232d3371-19b6-413e-d95f-e6f981364212"
   },
   "outputs": [
    {
     "name": "stdout",
     "output_type": "stream",
     "text": [
      "__MACOSX  sample_data  train  val\n"
     ]
    }
   ],
   "source": [
    "!ls"
   ]
  },
  {
   "cell_type": "code",
   "execution_count": 0,
   "metadata": {
    "colab": {},
    "colab_type": "code",
    "id": "PMDaOpArEaSQ"
   },
   "outputs": [],
   "source": [
    "!mkdir customImages"
   ]
  },
  {
   "cell_type": "code",
   "execution_count": 0,
   "metadata": {
    "colab": {},
    "colab_type": "code",
    "id": "0jCOO9SWEcv-"
   },
   "outputs": [],
   "source": [
    "!rm -rf sample_data\n",
    "!rm -rf __MACOSX"
   ]
  },
  {
   "cell_type": "code",
   "execution_count": 0,
   "metadata": {
    "colab": {},
    "colab_type": "code",
    "id": "Jo2qLT6LEe8G"
   },
   "outputs": [],
   "source": [
    "!mv train/ customImages/\n",
    "!mv val/ customImages/"
   ]
  },
  {
   "cell_type": "code",
   "execution_count": 17,
   "metadata": {
    "colab": {
     "base_uri": "https://localhost:8080/",
     "height": 34
    },
    "colab_type": "code",
    "id": "5YTw8v6nElnl",
    "outputId": "1a40d828-ff6c-4a77-9751-aa1388828791"
   },
   "outputs": [
    {
     "name": "stdout",
     "output_type": "stream",
     "text": [
      "customImages\n"
     ]
    }
   ],
   "source": [
    "!ls"
   ]
  },
  {
   "cell_type": "code",
   "execution_count": 18,
   "metadata": {
    "colab": {
     "base_uri": "https://localhost:8080/",
     "height": 102
    },
    "colab_type": "code",
    "id": "dy8EfFexEnbv",
    "outputId": "a895a608-2978-404e-98ff-652b7bc0ff4a"
   },
   "outputs": [
    {
     "name": "stdout",
     "output_type": "stream",
     "text": [
      "Cloning into 'Mask_RCNN'...\n",
      "remote: Enumerating objects: 956, done.\u001b[K\n",
      "remote: Total 956 (delta 0), reused 0 (delta 0), pack-reused 956\n",
      "Receiving objects: 100% (956/956), 119.39 MiB | 33.09 MiB/s, done.\n",
      "Resolving deltas: 100% (568/568), done.\n"
     ]
    }
   ],
   "source": [
    "!git clone https://github.com/matterport/Mask_RCNN.git"
   ]
  },
  {
   "cell_type": "code",
   "execution_count": 19,
   "metadata": {
    "colab": {
     "base_uri": "https://localhost:8080/",
     "height": 34
    },
    "colab_type": "code",
    "id": "FJ3dlQK6ErUe",
    "outputId": "28445fd3-8372-4069-dd1a-0d9716eb3222"
   },
   "outputs": [
    {
     "name": "stdout",
     "output_type": "stream",
     "text": [
      "customImages  Mask_RCNN\n"
     ]
    }
   ],
   "source": [
    "!ls"
   ]
  },
  {
   "cell_type": "code",
   "execution_count": 0,
   "metadata": {
    "colab": {},
    "colab_type": "code",
    "id": "zXTITLsoEuVN"
   },
   "outputs": [],
   "source": [
    "!mv customImages/ Mask_RCNN/"
   ]
  },
  {
   "cell_type": "code",
   "execution_count": 21,
   "metadata": {
    "colab": {
     "base_uri": "https://localhost:8080/",
     "height": 34
    },
    "colab_type": "code",
    "id": "t5qq3Pe2EwS9",
    "outputId": "6c0b7470-915f-4950-d1fb-f64e9a65c98e"
   },
   "outputs": [
    {
     "name": "stdout",
     "output_type": "stream",
     "text": [
      "/content/Mask_RCNN\n"
     ]
    }
   ],
   "source": [
    "%cd Mask_RCNN/"
   ]
  },
  {
   "cell_type": "code",
   "execution_count": null,
   "metadata": {
    "colab": {
     "base_uri": "https://localhost:8080/",
     "height": 1567
    },
    "colab_type": "code",
    "id": "Ah1w9JkGExpd",
    "outputId": "844d579b-fb3e-4d77-aa81-6c36309f34b0"
   },
   "outputs": [],
   "source": [
    "!pip install -r requirements.txt"
   ]
  },
  {
   "cell_type": "code",
   "execution_count": 23,
   "metadata": {
    "colab": {
     "base_uri": "https://localhost:8080/",
     "height": 935
    },
    "colab_type": "code",
    "id": "EIgDtCnUE2nc",
    "outputId": "b166bd96-d4b1-4b04-e6e2-65103cd1c87c"
   },
   "outputs": [
    {
     "name": "stderr",
     "output_type": "stream",
     "text": [
      "WARNING:root:Fail load requirements file, so using default ones.\n"
     ]
    },
    {
     "name": "stdout",
     "output_type": "stream",
     "text": [
      "running install\n",
      "running bdist_egg\n",
      "running egg_info\n",
      "creating mask_rcnn.egg-info\n",
      "writing mask_rcnn.egg-info/PKG-INFO\n",
      "writing dependency_links to mask_rcnn.egg-info/dependency_links.txt\n",
      "writing top-level names to mask_rcnn.egg-info/top_level.txt\n",
      "writing manifest file 'mask_rcnn.egg-info/SOURCES.txt'\n",
      "reading manifest template 'MANIFEST.in'\n",
      "writing manifest file 'mask_rcnn.egg-info/SOURCES.txt'\n",
      "installing library code to build/bdist.linux-x86_64/egg\n",
      "running install_lib\n",
      "running build_py\n",
      "creating build\n",
      "creating build/lib\n",
      "creating build/lib/mrcnn\n",
      "copying mrcnn/utils.py -> build/lib/mrcnn\n",
      "copying mrcnn/model.py -> build/lib/mrcnn\n",
      "copying mrcnn/__init__.py -> build/lib/mrcnn\n",
      "copying mrcnn/config.py -> build/lib/mrcnn\n",
      "copying mrcnn/visualize.py -> build/lib/mrcnn\n",
      "copying mrcnn/parallel_model.py -> build/lib/mrcnn\n",
      "creating build/bdist.linux-x86_64\n",
      "creating build/bdist.linux-x86_64/egg\n",
      "creating build/bdist.linux-x86_64/egg/mrcnn\n",
      "copying build/lib/mrcnn/utils.py -> build/bdist.linux-x86_64/egg/mrcnn\n",
      "copying build/lib/mrcnn/model.py -> build/bdist.linux-x86_64/egg/mrcnn\n",
      "copying build/lib/mrcnn/__init__.py -> build/bdist.linux-x86_64/egg/mrcnn\n",
      "copying build/lib/mrcnn/config.py -> build/bdist.linux-x86_64/egg/mrcnn\n",
      "copying build/lib/mrcnn/visualize.py -> build/bdist.linux-x86_64/egg/mrcnn\n",
      "copying build/lib/mrcnn/parallel_model.py -> build/bdist.linux-x86_64/egg/mrcnn\n",
      "byte-compiling build/bdist.linux-x86_64/egg/mrcnn/utils.py to utils.cpython-36.pyc\n",
      "byte-compiling build/bdist.linux-x86_64/egg/mrcnn/model.py to model.cpython-36.pyc\n",
      "byte-compiling build/bdist.linux-x86_64/egg/mrcnn/__init__.py to __init__.cpython-36.pyc\n",
      "byte-compiling build/bdist.linux-x86_64/egg/mrcnn/config.py to config.cpython-36.pyc\n",
      "byte-compiling build/bdist.linux-x86_64/egg/mrcnn/visualize.py to visualize.cpython-36.pyc\n",
      "byte-compiling build/bdist.linux-x86_64/egg/mrcnn/parallel_model.py to parallel_model.cpython-36.pyc\n",
      "creating build/bdist.linux-x86_64/egg/EGG-INFO\n",
      "copying mask_rcnn.egg-info/PKG-INFO -> build/bdist.linux-x86_64/egg/EGG-INFO\n",
      "copying mask_rcnn.egg-info/SOURCES.txt -> build/bdist.linux-x86_64/egg/EGG-INFO\n",
      "copying mask_rcnn.egg-info/dependency_links.txt -> build/bdist.linux-x86_64/egg/EGG-INFO\n",
      "copying mask_rcnn.egg-info/top_level.txt -> build/bdist.linux-x86_64/egg/EGG-INFO\n"
     ]
    },
    {
     "name": "stderr",
     "output_type": "stream",
     "text": [
      "zip_safe flag not set; analyzing archive contents...\n"
     ]
    },
    {
     "name": "stdout",
     "output_type": "stream",
     "text": [
      "creating dist\n",
      "creating 'dist/mask_rcnn-2.1-py3.6.egg' and adding 'build/bdist.linux-x86_64/egg' to it\n",
      "removing 'build/bdist.linux-x86_64/egg' (and everything under it)\n",
      "Processing mask_rcnn-2.1-py3.6.egg\n",
      "Copying mask_rcnn-2.1-py3.6.egg to /usr/local/lib/python3.6/dist-packages\n",
      "Adding mask-rcnn 2.1 to easy-install.pth file\n",
      "\n",
      "Installed /usr/local/lib/python3.6/dist-packages/mask_rcnn-2.1-py3.6.egg\n",
      "Processing dependencies for mask-rcnn==2.1\n",
      "Finished processing dependencies for mask-rcnn==2.1\n"
     ]
    }
   ],
   "source": [
    "%run setup.py install"
   ]
  },
  {
   "cell_type": "code",
   "execution_count": 24,
   "metadata": {
    "colab": {
     "base_uri": "https://localhost:8080/",
     "height": 224
    },
    "colab_type": "code",
    "id": "XAUK-QniE5ft",
    "outputId": "f937cc51-ed50-4194-a969-6d4cbf6fe3d5"
   },
   "outputs": [
    {
     "name": "stdout",
     "output_type": "stream",
     "text": [
      "--2019-05-23 05:38:12--  https://raw.githubusercontent.com/Prady96/Pothole-Detection/avi_testing/custom.py?token=AHIVHIOGTWT7LA4IIWMEJVS455SIO\n",
      "Resolving raw.githubusercontent.com (raw.githubusercontent.com)... 151.101.0.133, 151.101.64.133, 151.101.128.133, ...\n",
      "Connecting to raw.githubusercontent.com (raw.githubusercontent.com)|151.101.0.133|:443... connected.\n",
      "HTTP request sent, awaiting response... 200 OK\n",
      "Length: 14555 (14K) [text/plain]\n",
      "Saving to: ‘custom.py?token=AHIVHIOGTWT7LA4IIWMEJVS455SIO’\n",
      "\n",
      "\r",
      "          custom.py   0%[                    ]       0  --.-KB/s               \r",
      "custom.py?token=AHI 100%[===================>]  14.21K  --.-KB/s    in 0.003s  \n",
      "\n",
      "2019-05-23 05:38:12 (4.05 MB/s) - ‘custom.py?token=AHIVHIOGTWT7LA4IIWMEJVS455SIO’ saved [14555/14555]\n",
      "\n"
     ]
    }
   ],
   "source": [
    "!wget https://github.com/sparsh-m/minor-pothole-detection/blob/master/custom.py"
   ]
  },
  {
   "cell_type": "code",
   "execution_count": 0,
   "metadata": {
    "colab": {},
    "colab_type": "code",
    "id": "a5-SaPTRFBK3"
   },
   "outputs": [],
   "source": [
    "!mv custom.py\\?token\\=AHIVHIOGTWT7LA4IIWMEJVS455SIO custom.py"
   ]
  },
  {
   "cell_type": "code",
   "execution_count": 26,
   "metadata": {
    "colab": {
     "base_uri": "https://localhost:8080/",
     "height": 68
    },
    "colab_type": "code",
    "id": "2oW9WwylFG5j",
    "outputId": "7eec9625-5e6f-48d9-cba8-a4a7187e9076"
   },
   "outputs": [
    {
     "name": "stdout",
     "output_type": "stream",
     "text": [
      "assets\t      custom.py  LICENSE\t     mrcnn\t       samples\n",
      "build\t      dist\t MANIFEST.in\t     README.md\t       setup.cfg\n",
      "customImages  images\t mask_rcnn.egg-info  requirements.txt  setup.py\n"
     ]
    }
   ],
   "source": [
    "!ls"
   ]
  },
  {
   "cell_type": "code",
   "execution_count": 0,
   "metadata": {
    "colab": {},
    "colab_type": "code",
    "id": "pJHPu6tbFIZb"
   },
   "outputs": [],
   "source": [
    "!mkdir logs"
   ]
  },
  {
   "cell_type": "code",
   "execution_count": 28,
   "metadata": {
    "colab": {
     "base_uri": "https://localhost:8080/",
     "height": 34
    },
    "colab_type": "code",
    "id": "Pi-kkrpIFL5C",
    "outputId": "14a6ff36-6f56-4771-85da-e3617c273344"
   },
   "outputs": [
    {
     "name": "stderr",
     "output_type": "stream",
     "text": [
      "Using TensorFlow backend.\n"
     ]
    }
   ],
   "source": [
    "import os\n",
    "import sys\n",
    "import itertools\n",
    "import math\n",
    "import logging\n",
    "import json\n",
    "import re\n",
    "import random\n",
    "from collections import OrderedDict\n",
    "import numpy as np\n",
    "import matplotlib\n",
    "import matplotlib.pyplot as plt\n",
    "import matplotlib.patches as patches\n",
    "import matplotlib.lines as lines\n",
    "from matplotlib.patches import Polygon\n",
    "\n",
    "# Root directory of the project\n",
    "ROOT_DIR = os.getcwd()\n",
    "\n",
    "# Import Mask RCNN\n",
    "sys.path.append(ROOT_DIR)  # To find local version of the library\n",
    "from mrcnn import utils\n",
    "from mrcnn import visualize\n",
    "from mrcnn.visualize import display_images\n",
    "import mrcnn.model as modellib\n",
    "from mrcnn.model import log\n",
    "\n",
    "MODEL_DIR = os.path.join(ROOT_DIR, \"logs\")\n",
    "\n",
    "import custom\n",
    "\n",
    "%matplotlib inline"
   ]
  },
  {
   "cell_type": "code",
   "execution_count": 29,
   "metadata": {
    "colab": {
     "base_uri": "https://localhost:8080/",
     "height": 34
    },
    "colab_type": "code",
    "id": "LUNJN8xtFPHy",
    "outputId": "b2157b4c-2e4e-4e16-8c86-d733d0a57d32"
   },
   "outputs": [
    {
     "name": "stdout",
     "output_type": "stream",
     "text": [
      "/content/Mask_RCNN/customImages\n"
     ]
    }
   ],
   "source": [
    "config = custom.CustomConfig()\n",
    "CUSTOM_DIR = os.path.join(ROOT_DIR, \"customImages\")\n",
    "print(CUSTOM_DIR)"
   ]
  },
  {
   "cell_type": "code",
   "execution_count": 30,
   "metadata": {
    "colab": {
     "base_uri": "https://localhost:8080/",
     "height": 85
    },
    "colab_type": "code",
    "id": "4h8AgDaiFR6i",
    "outputId": "dcdfec5f-7aed-4be9-a3a0-237edfd26292"
   },
   "outputs": [
    {
     "name": "stdout",
     "output_type": "stream",
     "text": [
      "Image Count: 1457\n",
      "Class Count: 2\n",
      "  0. BG                                                \n",
      "  1. damage                                            \n"
     ]
    }
   ],
   "source": [
    "# Load dataset\n",
    "# Get the dataset from the releases page\n",
    "# https://github.com/matterport/Mask_RCNN/releases\n",
    "dataset = custom.CustomDataset()\n",
    "dataset.load_custom(CUSTOM_DIR, \"train\")\n",
    "\n",
    "# Must call before using the dataset\n",
    "dataset.prepare()\n",
    "\n",
    "print(\"Image Count: {}\".format(len(dataset.image_ids)))\n",
    "print(\"Class Count: {}\".format(dataset.num_classes))\n",
    "for i, info in enumerate(dataset.class_info):\n",
    "    print(\"{:3}. {:50}\".format(i, info['name']))"
   ]
  },
  {
   "cell_type": "code",
   "execution_count": 31,
   "metadata": {
    "colab": {
     "base_uri": "https://localhost:8080/",
     "height": 921
    },
    "colab_type": "code",
    "id": "0MRZ8HZpFTu5",
    "outputId": "89cb02e8-3a4a-4034-e8e2-c5db5f2a139c"
   },
   "outputs": [
    {
     "name": "stdout",
     "output_type": "stream",
     "text": [
      "\n",
      "Configurations:\n",
      "BACKBONE                       resnet101\n",
      "BACKBONE_STRIDES               [4, 8, 16, 32, 64]\n",
      "BATCH_SIZE                     1\n",
      "BBOX_STD_DEV                   [0.1 0.1 0.2 0.2]\n",
      "COMPUTE_BACKBONE_SHAPE         None\n",
      "DETECTION_MAX_INSTANCES        100\n",
      "DETECTION_MIN_CONFIDENCE       0.7\n",
      "DETECTION_NMS_THRESHOLD        0.3\n",
      "FPN_CLASSIF_FC_LAYERS_SIZE     1024\n",
      "GPU_COUNT                      1\n",
      "GRADIENT_CLIP_NORM             5.0\n",
      "IMAGES_PER_GPU                 1\n",
      "IMAGE_CHANNEL_COUNT            3\n",
      "IMAGE_MAX_DIM                  1024\n",
      "IMAGE_META_SIZE                14\n",
      "IMAGE_MIN_DIM                  800\n",
      "IMAGE_MIN_SCALE                0\n",
      "IMAGE_RESIZE_MODE              square\n",
      "IMAGE_SHAPE                    [1024 1024    3]\n",
      "LEARNING_MOMENTUM              0.9\n",
      "LEARNING_RATE                  0.001\n",
      "LOSS_WEIGHTS                   {'rpn_class_loss': 1.0, 'rpn_bbox_loss': 1.0, 'mrcnn_class_loss': 1.0, 'mrcnn_bbox_loss': 1.0, 'mrcnn_mask_loss': 1.0}\n",
      "MASK_POOL_SIZE                 14\n",
      "MASK_SHAPE                     [28, 28]\n",
      "MAX_GT_INSTANCES               100\n",
      "MEAN_PIXEL                     [123.7 116.8 103.9]\n",
      "MINI_MASK_SHAPE                (56, 56)\n",
      "NAME                           damage\n",
      "NUM_CLASSES                    2\n",
      "POOL_SIZE                      7\n",
      "POST_NMS_ROIS_INFERENCE        1000\n",
      "POST_NMS_ROIS_TRAINING         2000\n",
      "PRE_NMS_LIMIT                  6000\n",
      "ROI_POSITIVE_RATIO             0.33\n",
      "RPN_ANCHOR_RATIOS              [0.5, 1, 2]\n",
      "RPN_ANCHOR_SCALES              (32, 64, 128, 256, 512)\n",
      "RPN_ANCHOR_STRIDE              1\n",
      "RPN_BBOX_STD_DEV               [0.1 0.1 0.2 0.2]\n",
      "RPN_NMS_THRESHOLD              0.7\n",
      "RPN_TRAIN_ANCHORS_PER_IMAGE    256\n",
      "STEPS_PER_EPOCH                1000\n",
      "TOP_DOWN_PYRAMID_SIZE          256\n",
      "TRAIN_BN                       False\n",
      "TRAIN_ROIS_PER_IMAGE           200\n",
      "USE_MINI_MASK                  True\n",
      "USE_RPN_ROIS                   True\n",
      "VALIDATION_STEPS               50\n",
      "WEIGHT_DECAY                   0.0001\n",
      "\n",
      "\n"
     ]
    }
   ],
   "source": [
    "class InferenceConfig(custom.CustomConfig):\n",
    "    # Set batch size to 1 since we'll be running inference on\n",
    "    # one image at a time. Batch size = GPU_COUNT * IMAGES_PER_GPU\n",
    "    GPU_COUNT = 1\n",
    "    IMAGES_PER_GPU = 1\n",
    "\n",
    "config = InferenceConfig()\n",
    "config.display()"
   ]
  },
  {
   "cell_type": "code",
   "execution_count": 32,
   "metadata": {
    "colab": {
     "base_uri": "https://localhost:8080/",
     "height": 153
    },
    "colab_type": "code",
    "id": "de_0e7OgFWuJ",
    "outputId": "58d1c923-2085-451c-cad5-2bcd591995e5"
   },
   "outputs": [
    {
     "name": "stdout",
     "output_type": "stream",
     "text": [
      "[GoogleDrive] 1aShefxzQmeB1qerh1Xo2Xkm1SPIy_yzy: Downloading webpage\n",
      "[GoogleDrive] 1aShefxzQmeB1qerh1Xo2Xkm1SPIy_yzy: Requesting source file\n",
      "[download] Destination: mask_rcnn_damage_0320.h5-1aShefxzQmeB1qerh1Xo2Xkm1SPIy_yzy.h5\n",
      "\u001b[K[download] 100% of 244.01MiB in 00:02\n",
      "[GoogleDrive] 1ex7Mo62j7wugrZbmNFZFAuujd_UguRYK: Downloading webpage\n",
      "[GoogleDrive] 1ex7Mo62j7wugrZbmNFZFAuujd_UguRYK: Requesting source file\n",
      "[download] Destination: mask_rcnn_damage_0160.h5-1ex7Mo62j7wugrZbmNFZFAuujd_UguRYK.h5\n",
      "\u001b[K[download] 100% of 244.01MiB in 00:02\n"
     ]
    }
   ],
   "source": [
    "##################### MODEL FILE HERE ##################\n",
    "### FOR 320 epoch\n",
    "!youtube-dl https://drive.google.com/file/d/1aShefxzQmeB1qerh1Xo2Xkm1SPIy_yzy/view?usp=sharing\n",
    "### FOR 160 epoch\n",
    "!youtube-dl https://drive.google.com/file/d/1ex7Mo62j7wugrZbmNFZFAuujd_UguRYK/view?usp=sharing"
   ]
  },
  {
   "cell_type": "code",
   "execution_count": 33,
   "metadata": {
    "colab": {
     "base_uri": "https://localhost:8080/",
     "height": 340
    },
    "colab_type": "code",
    "id": "3Qi41a4xLLKZ",
    "outputId": "97404f0d-8928-4f03-d0f2-eeafd38bfc6c"
   },
   "outputs": [
    {
     "name": "stdout",
     "output_type": "stream",
     "text": [
      "assets\n",
      "build\n",
      "customImages\n",
      "custom.py\n",
      "dist\n",
      "images\n",
      "LICENSE\n",
      "logs\n",
      "MANIFEST.in\n",
      "mask_rcnn_damage_0160.h5-1ex7Mo62j7wugrZbmNFZFAuujd_UguRYK.h5\n",
      "mask_rcnn_damage_0320.h5-1aShefxzQmeB1qerh1Xo2Xkm1SPIy_yzy.h5\n",
      "mask_rcnn.egg-info\n",
      "mrcnn\n",
      "__pycache__\n",
      "README.md\n",
      "requirements.txt\n",
      "samples\n",
      "setup.cfg\n",
      "setup.py\n"
     ]
    }
   ],
   "source": [
    "!ls"
   ]
  },
  {
   "cell_type": "code",
   "execution_count": 0,
   "metadata": {
    "colab": {},
    "colab_type": "code",
    "id": "RWaNh-EPLSOb"
   },
   "outputs": [],
   "source": [
    "!mv mask_rcnn_damage_0160.h5-1ex7Mo62j7wugrZbmNFZFAuujd_UguRYK.h5 mask_rcnn_damage_0160.h5"
   ]
  },
  {
   "cell_type": "code",
   "execution_count": 0,
   "metadata": {
    "colab": {},
    "colab_type": "code",
    "id": "kn_Hg4FuLSLX"
   },
   "outputs": [],
   "source": [
    "!mv mask_rcnn_damage_0160.h5 logs/"
   ]
  },
  {
   "cell_type": "code",
   "execution_count": 36,
   "metadata": {
    "colab": {
     "base_uri": "https://localhost:8080/",
     "height": 170
    },
    "colab_type": "code",
    "id": "i90TCez3Fg9M",
    "outputId": "d97aac9c-e567-473a-ff7b-748e4089805f"
   },
   "outputs": [
    {
     "name": "stdout",
     "output_type": "stream",
     "text": [
      "assets\t      mask_rcnn_damage_0320.h5-1aShefxzQmeB1qerh1Xo2Xkm1SPIy_yzy.h5\n",
      "build\t      mask_rcnn.egg-info\n",
      "customImages  mrcnn\n",
      "custom.py     __pycache__\n",
      "dist\t      README.md\n",
      "images\t      requirements.txt\n",
      "LICENSE       samples\n",
      "logs\t      setup.cfg\n",
      "MANIFEST.in   setup.py\n"
     ]
    }
   ],
   "source": [
    "!ls"
   ]
  },
  {
   "cell_type": "code",
   "execution_count": 0,
   "metadata": {
    "colab": {},
    "colab_type": "code",
    "id": "5ucLQqewFlY4"
   },
   "outputs": [],
   "source": [
    "!mv mask_rcnn_damage_0320.h5-1aShefxzQmeB1qerh1Xo2Xkm1SPIy_yzy.h5 mask_rcnn_damage_0320.h5"
   ]
  },
  {
   "cell_type": "code",
   "execution_count": 0,
   "metadata": {
    "colab": {},
    "colab_type": "code",
    "id": "axPHciNTFppg"
   },
   "outputs": [],
   "source": [
    "!mv mask_rcnn_damage_0320.h5 logs/"
   ]
  },
  {
   "cell_type": "code",
   "execution_count": 39,
   "metadata": {
    "colab": {
     "base_uri": "https://localhost:8080/",
     "height": 34
    },
    "colab_type": "code",
    "id": "ShTh3MVpFuDX",
    "outputId": "c18d65ac-ddad-4eac-a80e-80fd4de8c80d"
   },
   "outputs": [
    {
     "name": "stdout",
     "output_type": "stream",
     "text": [
      "mask_rcnn_damage_0160.h5  mask_rcnn_damage_0320.h5\n"
     ]
    }
   ],
   "source": [
    "!ls logs/"
   ]
  },
  {
   "cell_type": "code",
   "execution_count": 40,
   "metadata": {
    "colab": {
     "base_uri": "https://localhost:8080/",
     "height": 139
    },
    "colab_type": "code",
    "id": "eUqtrWbBFwoO",
    "outputId": "2a810df9-7b28-4fcb-ffac-8e577ce5923c"
   },
   "outputs": [
    {
     "name": "stderr",
     "output_type": "stream",
     "text": [
      "WARNING:tensorflow:From /usr/local/lib/python3.6/dist-packages/tensorflow/python/framework/op_def_library.py:263: colocate_with (from tensorflow.python.framework.ops) is deprecated and will be removed in a future version.\n",
      "Instructions for updating:\n",
      "Colocations handled automatically by placer.\n",
      "WARNING:tensorflow:From /content/Mask_RCNN/mrcnn/model.py:772: to_float (from tensorflow.python.ops.math_ops) is deprecated and will be removed in a future version.\n",
      "Instructions for updating:\n",
      "Use tf.cast instead.\n"
     ]
    }
   ],
   "source": [
    "\n",
    "# Create model object in inference mode.\n",
    "model = modellib.MaskRCNN(mode=\"inference\", model_dir=MODEL_DIR, config=config)\n",
    "\n",
    "# Load weights trained on MS-COCO\n",
    "model.load_weights(\"logs/mask_rcnn_damage_0320.h5\", by_name=True)"
   ]
  },
  {
   "cell_type": "code",
   "execution_count": 0,
   "metadata": {
    "colab": {},
    "colab_type": "code",
    "id": "Vt6BBdfvF1Dz"
   },
   "outputs": [],
   "source": [
    "class_names = ['BG', 'damage']"
   ]
  },
  {
   "cell_type": "code",
   "execution_count": 42,
   "metadata": {
    "colab": {
     "base_uri": "https://localhost:8080/",
     "height": 105
    },
    "colab_type": "code",
    "id": "jh__eFvVF39v",
    "outputId": "67192396-00c9-4d7c-f974-8d5413f8e264"
   },
   "outputs": [
    {
     "name": "stdout",
     "output_type": "stream",
     "text": [
      "Collecting utils\n",
      "  Downloading https://files.pythonhosted.org/packages/9b/de/9ffaf89be661b32d1e0cff05e1af5e4fc2d608c47498975e94aca219aed4/utils-0.9.0-py2.py3-none-any.whl\n",
      "Installing collected packages: utils\n",
      "Successfully installed utils-0.9.0\n"
     ]
    }
   ],
   "source": [
    "!pip install utils"
   ]
  },
  {
   "cell_type": "code",
   "execution_count": 0,
   "metadata": {
    "colab": {},
    "colab_type": "code",
    "id": "eec1k0OwF7J3"
   },
   "outputs": [],
   "source": [
    "import os\n",
    "import sys\n",
    "import custom\n",
    "import utils"
   ]
  },
  {
   "cell_type": "code",
   "execution_count": 44,
   "metadata": {
    "colab": {
     "base_uri": "https://localhost:8080/",
     "height": 34
    },
    "colab_type": "code",
    "id": "b7GRmIFnF8pG",
    "outputId": "d89669b3-72ec-46d5-dbe2-10894bcf1338"
   },
   "outputs": [
    {
     "name": "stdout",
     "output_type": "stream",
     "text": [
      "/content/Mask_RCNN/mrcnn\n"
     ]
    }
   ],
   "source": [
    "%cd mrcnn"
   ]
  },
  {
   "cell_type": "code",
   "execution_count": 0,
   "metadata": {
    "colab": {},
    "colab_type": "code",
    "id": "24UCj7B8F-xl"
   },
   "outputs": [],
   "source": [
    "import model as modellib"
   ]
  },
  {
   "cell_type": "code",
   "execution_count": 46,
   "metadata": {
    "colab": {
     "base_uri": "https://localhost:8080/",
     "height": 34
    },
    "colab_type": "code",
    "id": "gb-3O06eGATH",
    "outputId": "04b9848c-e0d3-4eb3-d4ea-4566d7e21e6e"
   },
   "outputs": [
    {
     "name": "stdout",
     "output_type": "stream",
     "text": [
      "/content/Mask_RCNN\n"
     ]
    }
   ],
   "source": [
    "%cd .."
   ]
  },
  {
   "cell_type": "code",
   "execution_count": 0,
   "metadata": {
    "colab": {},
    "colab_type": "code",
    "id": "UYLYMuuwGDkC"
   },
   "outputs": [],
   "source": [
    "import cv2\n",
    "import numpy as np"
   ]
  },
  {
   "cell_type": "code",
   "execution_count": 0,
   "metadata": {
    "colab": {},
    "colab_type": "code",
    "id": "59BYPSr2GE6V"
   },
   "outputs": [],
   "source": [
    "## Testing\n",
    "from PIL import Image, ImageDraw, ImageFont"
   ]
  },
  {
   "cell_type": "markdown",
   "metadata": {
    "colab_type": "text",
    "id": "inNt7Fa3GI94"
   },
   "source": [
    "MoveOver for Getting Testing Images Similar to S3 Bucket"
   ]
  },
  {
   "cell_type": "code",
   "execution_count": 49,
   "metadata": {
    "colab": {
     "base_uri": "https://localhost:8080/",
     "height": 85
    },
    "colab_type": "code",
    "id": "-CA6Y8LMGGQV",
    "outputId": "adc51bb3-376d-4850-b8c0-1e2d914f9d9f"
   },
   "outputs": [
    {
     "name": "stdout",
     "output_type": "stream",
     "text": [
      "[GoogleDrive] 1FTvc361O9BBURgsTMb6dJoE6InAoic_O: Downloading webpage\n",
      "[GoogleDrive] 1FTvc361O9BBURgsTMb6dJoE6InAoic_O: Requesting source file\n",
      "[download] Destination: images.zip-1FTvc361O9BBURgsTMb6dJoE6InAoic_O.zip\n",
      "\u001b[K[download] 100% of 3.42MiB in 00:02\n"
     ]
    }
   ],
   "source": [
    "!youtube-dl https://drive.google.com/file/d/1FTvc361O9BBURgsTMb6dJoE6InAoic_O/view?usp=sharing"
   ]
  },
  {
   "cell_type": "code",
   "execution_count": 50,
   "metadata": {
    "colab": {
     "base_uri": "https://localhost:8080/",
     "height": 170
    },
    "colab_type": "code",
    "id": "TlcQ1eLUIzul",
    "outputId": "9bd21617-a5f8-4e75-a001-30e4b529859d"
   },
   "outputs": [
    {
     "name": "stdout",
     "output_type": "stream",
     "text": [
      "assets\t\t\t\t\t\t  MANIFEST.in\n",
      "build\t\t\t\t\t\t  mask_rcnn.egg-info\n",
      "customImages\t\t\t\t\t  mrcnn\n",
      "custom.py\t\t\t\t\t  __pycache__\n",
      "dist\t\t\t\t\t\t  README.md\n",
      "images\t\t\t\t\t\t  requirements.txt\n",
      "images.zip-1FTvc361O9BBURgsTMb6dJoE6InAoic_O.zip  samples\n",
      "LICENSE\t\t\t\t\t\t  setup.cfg\n",
      "logs\t\t\t\t\t\t  setup.py\n"
     ]
    }
   ],
   "source": [
    "!ls"
   ]
  },
  {
   "cell_type": "code",
   "execution_count": 0,
   "metadata": {
    "colab": {},
    "colab_type": "code",
    "id": "oewAx0IAI1z_"
   },
   "outputs": [],
   "source": [
    "!mv images.zip-1FTvc361O9BBURgsTMb6dJoE6InAoic_O.zip images.zip"
   ]
  },
  {
   "cell_type": "code",
   "execution_count": 0,
   "metadata": {
    "colab": {},
    "colab_type": "code",
    "id": "QfkMCysDI57e"
   },
   "outputs": [],
   "source": [
    "!mkdir S3_Images"
   ]
  },
  {
   "cell_type": "code",
   "execution_count": 0,
   "metadata": {
    "colab": {},
    "colab_type": "code",
    "id": "uM2VAlx7I8Re"
   },
   "outputs": [],
   "source": [
    "!mv images.zip S3_Images/"
   ]
  },
  {
   "cell_type": "code",
   "execution_count": 54,
   "metadata": {
    "colab": {
     "base_uri": "https://localhost:8080/",
     "height": 34
    },
    "colab_type": "code",
    "id": "2LCTPdZEI_3O",
    "outputId": "ef314311-fbb8-45a9-8a3d-3c4e728b298b"
   },
   "outputs": [
    {
     "name": "stdout",
     "output_type": "stream",
     "text": [
      "/content/Mask_RCNN/S3_Images\n"
     ]
    }
   ],
   "source": [
    "%cd S3_Images/"
   ]
  },
  {
   "cell_type": "code",
   "execution_count": 55,
   "metadata": {
    "colab": {
     "base_uri": "https://localhost:8080/",
     "height": 34
    },
    "colab_type": "code",
    "id": "ySRBFtpEJCHO",
    "outputId": "3221ef09-b673-42f9-9c23-bb96e097cb99"
   },
   "outputs": [
    {
     "name": "stdout",
     "output_type": "stream",
     "text": [
      "images.zip\n"
     ]
    }
   ],
   "source": [
    "!ls"
   ]
  },
  {
   "cell_type": "code",
   "execution_count": 56,
   "metadata": {
    "colab": {
     "base_uri": "https://localhost:8080/",
     "height": 1547
    },
    "colab_type": "code",
    "id": "pv6EMPgDJDIm",
    "outputId": "db5ec067-6c60-48ae-e9b7-7b05708304a1"
   },
   "outputs": [
    {
     "name": "stdout",
     "output_type": "stream",
     "text": [
      "Archive:  images.zip\n",
      "   creating: images 2/\n",
      "  inflating: images 2/3a8b1a78-81fa-44a8-8103-58e57b9722f1.mov-0001.jpg  \n",
      "   creating: __MACOSX/\n",
      "   creating: __MACOSX/images 2/\n",
      "  inflating: __MACOSX/images 2/._3a8b1a78-81fa-44a8-8103-58e57b9722f1.mov-0001.jpg  \n",
      "  inflating: images 2/img1bb80-lat-28.5557378-long-77.2658383.jpeg  \n",
      "  inflating: __MACOSX/images 2/._img1bb80-lat-28.5557378-long-77.2658383.jpeg  \n",
      "  inflating: images 2/3cdffa93-a892-4247-82ff-0aab233dbfa1.mov-0001.jpg  \n",
      "  inflating: __MACOSX/images 2/._3cdffa93-a892-4247-82ff-0aab233dbfa1.mov-0001.jpg  \n",
      "  inflating: images 2/03d51b5e-ba51-4b83-a40b-e7294e8e976a.mov-0001.jpg  \n",
      "  inflating: __MACOSX/images 2/._03d51b5e-ba51-4b83-a40b-e7294e8e976a.mov-0001.jpg  \n",
      "  inflating: images 2/4173.jpg       \n",
      "  inflating: __MACOSX/images 2/._4173.jpg  \n",
      "  inflating: images 2/.DS_Store      \n",
      "  inflating: __MACOSX/images 2/._.DS_Store  \n",
      "  inflating: images 2/171.jpg        \n",
      "  inflating: __MACOSX/images 2/._171.jpg  \n",
      "  inflating: images 2/pgm-bw-115-_145.jpg  \n",
      "  inflating: __MACOSX/images 2/._pgm-bw-115-_145.jpg  \n",
      "  inflating: images 2/0b6149c6-eb02-4fb4-b876-ea2d9c4bffa3.mov-0001.jpg  \n",
      "  inflating: __MACOSX/images 2/._0b6149c6-eb02-4fb4-b876-ea2d9c4bffa3.mov-0001.jpg  \n",
      "  inflating: images 2/Muroran_20170921100101.jpg  \n",
      "  inflating: __MACOSX/images 2/._Muroran_20170921100101.jpg  \n",
      "  inflating: images 2/IMG_4991.JPG   \n",
      "  inflating: __MACOSX/images 2/._IMG_4991.JPG  \n",
      "  inflating: images 2/img1c5b4-lat-28.5536884-long-77.2669158.jpeg  \n",
      "  inflating: __MACOSX/images 2/._img1c5b4-lat-28.5536884-long-77.2669158.jpeg  \n",
      "  inflating: images 2/3cb4869a-247a-452e-a9ed-051db987dc27.mov-0001.jpg  \n",
      "  inflating: __MACOSX/images 2/._3cb4869a-247a-452e-a9ed-051db987dc27.mov-0001.jpg  \n",
      "  inflating: images 2/5587.jpg       \n",
      "  inflating: __MACOSX/images 2/._5587.jpg  \n",
      "  inflating: images 2/D1Pm2yBUYAAJweG.jpg  \n",
      "  inflating: __MACOSX/images 2/._D1Pm2yBUYAAJweG.jpg  \n",
      "  inflating: images 2/5e40998f-9b81-4027-83b1-0ffa553d22df.mov-0001.jpg  \n",
      "  inflating: __MACOSX/images 2/._5e40998f-9b81-4027-83b1-0ffa553d22df.mov-0001.jpg  \n",
      "  inflating: images 2/test_275.jpg   \n",
      "  inflating: __MACOSX/images 2/._test_275.jpg  \n",
      "  inflating: images 2/3dade430-d240-447e-a942-5bed90d8d11e.mov-0001.jpg  \n",
      "  inflating: __MACOSX/images 2/._3dade430-d240-447e-a942-5bed90d8d11e.mov-0001.jpg  \n",
      "  inflating: images 2/D0bXkP7UUAAH2ui.jpg  \n",
      "  inflating: __MACOSX/images 2/._D0bXkP7UUAAH2ui.jpg  \n",
      "  inflating: images 2/5fc8fa99-bf2f-4be6-a111-6fd00d240084.mov-0001.jpg  \n",
      "  inflating: __MACOSX/images 2/._5fc8fa99-bf2f-4be6-a111-6fd00d240084.mov-0001.jpg  \n",
      "  inflating: images 2/\\frame3.jpg    \n",
      "  inflating: __MACOSX/images 2/._\\frame3.jpg  \n",
      "  inflating: images 2/img0d7ac-lat-28.5536884-long-77.2669158.jpeg  \n",
      "  inflating: __MACOSX/images 2/._img0d7ac-lat-28.5536884-long-77.2669158.jpeg  \n",
      "  inflating: images 2/Muroran_20170920113720.jpg  \n",
      "  inflating: __MACOSX/images 2/._Muroran_20170920113720.jpg  \n",
      "  inflating: images 2/img00bd1-lat-28.5536884-long-77.2669158.jpeg  \n",
      "  inflating: __MACOSX/images 2/._img00bd1-lat-28.5536884-long-77.2669158.jpeg  \n",
      "  inflating: images 2/GtooxLZodzIddzZT.jpg  \n",
      "  inflating: __MACOSX/images 2/._GtooxLZodzIddzZT.jpg  \n",
      "  inflating: images 2/1c1d50d9-cc5b-45af-ab5a-54a0d8314b07.mov-0001.jpg  \n",
      "  inflating: __MACOSX/images 2/._1c1d50d9-cc5b-45af-ab5a-54a0d8314b07.mov-0001.jpg  \n",
      "  inflating: images 2/img01aa4-lat-28.5557378-long-77.2658383.jpeg  \n",
      "  inflating: __MACOSX/images 2/._img01aa4-lat-28.5557378-long-77.2658383.jpeg  \n",
      "  inflating: images 2/IMG_6746.JPG   \n",
      "  inflating: __MACOSX/images 2/._IMG_6746.JPG  \n",
      "  inflating: images 2/Adachi_20170911112605.jpg  \n",
      "  inflating: __MACOSX/images 2/._Adachi_20170911112605.jpg  \n",
      "  inflating: images 2/img0ce18-lat-28.5557378-long-77.2658383.jpeg  \n",
      "  inflating: __MACOSX/images 2/._img0ce18-lat-28.5557378-long-77.2658383.jpeg  \n",
      "  inflating: images 2/img1a9e0-lat-28.5557378-long-77.2658383.jpeg  \n",
      "  inflating: __MACOSX/images 2/._img1a9e0-lat-28.5557378-long-77.2658383.jpeg  \n",
      "  inflating: images 2/pgm-bw-112-_98.jpg  \n",
      "  inflating: __MACOSX/images 2/._pgm-bw-112-_98.jpg  \n",
      "  inflating: images 2/3cc9be97-33f6-4494-a4d6-09d85a1c4932.mov-0001.jpg  \n",
      "  inflating: __MACOSX/images 2/._3cc9be97-33f6-4494-a4d6-09d85a1c4932.mov-0001.jpg  \n",
      "  inflating: images 2/4eda22b6-dec4-42f5-8541-6dd3416be2b7.mov-0001.jpg  \n",
      "  inflating: __MACOSX/images 2/._4eda22b6-dec4-42f5-8541-6dd3416be2b7.mov-0001.jpg  \n",
      "  inflating: images 2/1c8c4406-95d5-4dd6-8cd7-8e7b3792204d.mov-0001.jpg  \n",
      "  inflating: __MACOSX/images 2/._1c8c4406-95d5-4dd6-8cd7-8e7b3792204d.mov-0001.jpg  \n",
      "  inflating: images 2/6a3e381c-d20f-483c-831d-4153dd4a7518.mov-0001.jpg  \n",
      "  inflating: __MACOSX/images 2/._6a3e381c-d20f-483c-831d-4153dd4a7518.mov-0001.jpg  \n",
      "  inflating: images 2/2f2d5006-7dd7-403d-a3ce-f2a50b535977.mov-0001.jpg  \n",
      "  inflating: __MACOSX/images 2/._2f2d5006-7dd7-403d-a3ce-f2a50b535977.mov-0001.jpg  \n",
      "  inflating: images 2/IMG_9567.JPG   \n",
      "  inflating: __MACOSX/images 2/._IMG_9567.JPG  \n",
      "  inflating: images 2/img0bfa5-lat-28.5557378-long-77.2658383.jpeg  \n",
      "  inflating: __MACOSX/images 2/._img0bfa5-lat-28.5557378-long-77.2658383.jpeg  \n",
      "  inflating: images 2/IMG_4453.JPG   \n",
      "  inflating: __MACOSX/images 2/._IMG_4453.JPG  \n",
      "  inflating: images 2/potholes-3-greenfield-rd-psweeting.jpg  \n",
      "  inflating: __MACOSX/images 2/._potholes-3-greenfield-rd-psweeting.jpg  \n",
      "  inflating: images 2/351.jpg        \n",
      "  inflating: __MACOSX/images 2/._351.jpg  \n",
      "  inflating: images 2/1f2ea472-beb4-4ee9-b3fd-4de6e26c6d62.mov-0001.jpg  \n",
      "  inflating: __MACOSX/images 2/._1f2ea472-beb4-4ee9-b3fd-4de6e26c6d62.mov-0001.jpg  \n"
     ]
    }
   ],
   "source": [
    "!unzip images.zip"
   ]
  },
  {
   "cell_type": "code",
   "execution_count": 57,
   "metadata": {
    "colab": {
     "base_uri": "https://localhost:8080/",
     "height": 34
    },
    "colab_type": "code",
    "id": "JuaZXKyxJFPN",
    "outputId": "411b6de4-96bb-4d51-cc7c-84059bd7a73d"
   },
   "outputs": [
    {
     "name": "stdout",
     "output_type": "stream",
     "text": [
      "'images 2'   images.zip   __MACOSX\n"
     ]
    }
   ],
   "source": [
    "!ls"
   ]
  },
  {
   "cell_type": "code",
   "execution_count": 0,
   "metadata": {
    "colab": {},
    "colab_type": "code",
    "id": "OL1hLY1RJHMF"
   },
   "outputs": [],
   "source": [
    "!rm -rf images.zip\n",
    "!rm -rf __MACOSX/"
   ]
  },
  {
   "cell_type": "code",
   "execution_count": 0,
   "metadata": {
    "colab": {},
    "colab_type": "code",
    "id": "7OZjeKWSJJc1"
   },
   "outputs": [],
   "source": [
    "!mv images\\ 2 images"
   ]
  },
  {
   "cell_type": "code",
   "execution_count": 60,
   "metadata": {
    "colab": {
     "base_uri": "https://localhost:8080/",
     "height": 34
    },
    "colab_type": "code",
    "id": "zjwZjTx_JObE",
    "outputId": "f98dc54c-8f97-4168-abd7-39900bf76aae"
   },
   "outputs": [
    {
     "name": "stdout",
     "output_type": "stream",
     "text": [
      "images\n"
     ]
    }
   ],
   "source": [
    "!ls"
   ]
  },
  {
   "cell_type": "code",
   "execution_count": 61,
   "metadata": {
    "colab": {
     "base_uri": "https://localhost:8080/",
     "height": 731
    },
    "colab_type": "code",
    "id": "KXe59PyIJP2E",
    "outputId": "55bfd0f8-b148-49d4-a6b8-9b0999f57db7"
   },
   "outputs": [
    {
     "name": "stdout",
     "output_type": "stream",
     "text": [
      " 03d51b5e-ba51-4b83-a40b-e7294e8e976a.mov-0001.jpg\n",
      " 0b6149c6-eb02-4fb4-b876-ea2d9c4bffa3.mov-0001.jpg\n",
      " 171.jpg\n",
      " 1c1d50d9-cc5b-45af-ab5a-54a0d8314b07.mov-0001.jpg\n",
      " 1c8c4406-95d5-4dd6-8cd7-8e7b3792204d.mov-0001.jpg\n",
      " 1f2ea472-beb4-4ee9-b3fd-4de6e26c6d62.mov-0001.jpg\n",
      " 2f2d5006-7dd7-403d-a3ce-f2a50b535977.mov-0001.jpg\n",
      " 351.jpg\n",
      " 3a8b1a78-81fa-44a8-8103-58e57b9722f1.mov-0001.jpg\n",
      " 3cb4869a-247a-452e-a9ed-051db987dc27.mov-0001.jpg\n",
      " 3cc9be97-33f6-4494-a4d6-09d85a1c4932.mov-0001.jpg\n",
      " 3cdffa93-a892-4247-82ff-0aab233dbfa1.mov-0001.jpg\n",
      " 3dade430-d240-447e-a942-5bed90d8d11e.mov-0001.jpg\n",
      " 4173.jpg\n",
      " 4eda22b6-dec4-42f5-8541-6dd3416be2b7.mov-0001.jpg\n",
      " 5587.jpg\n",
      " 5e40998f-9b81-4027-83b1-0ffa553d22df.mov-0001.jpg\n",
      " 5fc8fa99-bf2f-4be6-a111-6fd00d240084.mov-0001.jpg\n",
      " 6a3e381c-d20f-483c-831d-4153dd4a7518.mov-0001.jpg\n",
      " Adachi_20170911112605.jpg\n",
      " D0bXkP7UUAAH2ui.jpg\n",
      " D1Pm2yBUYAAJweG.jpg\n",
      "'\\frame3.jpg'\n",
      " GtooxLZodzIddzZT.jpg\n",
      " img00bd1-lat-28.5536884-long-77.2669158.jpeg\n",
      " img01aa4-lat-28.5557378-long-77.2658383.jpeg\n",
      " img0bfa5-lat-28.5557378-long-77.2658383.jpeg\n",
      " img0ce18-lat-28.5557378-long-77.2658383.jpeg\n",
      " img0d7ac-lat-28.5536884-long-77.2669158.jpeg\n",
      " img1a9e0-lat-28.5557378-long-77.2658383.jpeg\n",
      " img1bb80-lat-28.5557378-long-77.2658383.jpeg\n",
      " img1c5b4-lat-28.5536884-long-77.2669158.jpeg\n",
      " IMG_4453.JPG\n",
      " IMG_4991.JPG\n",
      " IMG_6746.JPG\n",
      " IMG_9567.JPG\n",
      " Muroran_20170920113720.jpg\n",
      " Muroran_20170921100101.jpg\n",
      " pgm-bw-112-_98.jpg\n",
      " pgm-bw-115-_145.jpg\n",
      " potholes-3-greenfield-rd-psweeting.jpg\n",
      " test_275.jpg\n"
     ]
    }
   ],
   "source": [
    "!ls images"
   ]
  },
  {
   "cell_type": "code",
   "execution_count": 62,
   "metadata": {
    "colab": {
     "base_uri": "https://localhost:8080/",
     "height": 34
    },
    "colab_type": "code",
    "id": "uILVf37AJRe0",
    "outputId": "fdcfd6b8-947d-4349-a31c-5f4707301d1c"
   },
   "outputs": [
    {
     "name": "stdout",
     "output_type": "stream",
     "text": [
      "/content/Mask_RCNN/S3_Images\n"
     ]
    }
   ],
   "source": [
    "!pwd"
   ]
  },
  {
   "cell_type": "code",
   "execution_count": 63,
   "metadata": {
    "colab": {
     "base_uri": "https://localhost:8080/",
     "height": 34
    },
    "colab_type": "code",
    "id": "8tCtsK31JTVT",
    "outputId": "9f7d6d15-863e-41ab-b239-8dd52336c50e"
   },
   "outputs": [
    {
     "name": "stdout",
     "output_type": "stream",
     "text": [
      "/content/Mask_RCNN\n"
     ]
    }
   ],
   "source": [
    "%cd /content/Mask_RCNN/"
   ]
  },
  {
   "cell_type": "code",
   "execution_count": 64,
   "metadata": {
    "colab": {
     "base_uri": "https://localhost:8080/",
     "height": 731
    },
    "colab_type": "code",
    "id": "cQnNMwuaJdI_",
    "outputId": "4a79c59e-88b7-4d7c-8ae5-ba8c5f3ccce7"
   },
   "outputs": [
    {
     "name": "stdout",
     "output_type": "stream",
     "text": [
      " 03d51b5e-ba51-4b83-a40b-e7294e8e976a.mov-0001.jpg\n",
      " 0b6149c6-eb02-4fb4-b876-ea2d9c4bffa3.mov-0001.jpg\n",
      " 171.jpg\n",
      " 1c1d50d9-cc5b-45af-ab5a-54a0d8314b07.mov-0001.jpg\n",
      " 1c8c4406-95d5-4dd6-8cd7-8e7b3792204d.mov-0001.jpg\n",
      " 1f2ea472-beb4-4ee9-b3fd-4de6e26c6d62.mov-0001.jpg\n",
      " 2f2d5006-7dd7-403d-a3ce-f2a50b535977.mov-0001.jpg\n",
      " 351.jpg\n",
      " 3a8b1a78-81fa-44a8-8103-58e57b9722f1.mov-0001.jpg\n",
      " 3cb4869a-247a-452e-a9ed-051db987dc27.mov-0001.jpg\n",
      " 3cc9be97-33f6-4494-a4d6-09d85a1c4932.mov-0001.jpg\n",
      " 3cdffa93-a892-4247-82ff-0aab233dbfa1.mov-0001.jpg\n",
      " 3dade430-d240-447e-a942-5bed90d8d11e.mov-0001.jpg\n",
      " 4173.jpg\n",
      " 4eda22b6-dec4-42f5-8541-6dd3416be2b7.mov-0001.jpg\n",
      " 5587.jpg\n",
      " 5e40998f-9b81-4027-83b1-0ffa553d22df.mov-0001.jpg\n",
      " 5fc8fa99-bf2f-4be6-a111-6fd00d240084.mov-0001.jpg\n",
      " 6a3e381c-d20f-483c-831d-4153dd4a7518.mov-0001.jpg\n",
      " Adachi_20170911112605.jpg\n",
      " D0bXkP7UUAAH2ui.jpg\n",
      " D1Pm2yBUYAAJweG.jpg\n",
      "'\\frame3.jpg'\n",
      " GtooxLZodzIddzZT.jpg\n",
      " img00bd1-lat-28.5536884-long-77.2669158.jpeg\n",
      " img01aa4-lat-28.5557378-long-77.2658383.jpeg\n",
      " img0bfa5-lat-28.5557378-long-77.2658383.jpeg\n",
      " img0ce18-lat-28.5557378-long-77.2658383.jpeg\n",
      " img0d7ac-lat-28.5536884-long-77.2669158.jpeg\n",
      " img1a9e0-lat-28.5557378-long-77.2658383.jpeg\n",
      " img1bb80-lat-28.5557378-long-77.2658383.jpeg\n",
      " img1c5b4-lat-28.5536884-long-77.2669158.jpeg\n",
      " IMG_4453.JPG\n",
      " IMG_4991.JPG\n",
      " IMG_6746.JPG\n",
      " IMG_9567.JPG\n",
      " Muroran_20170920113720.jpg\n",
      " Muroran_20170921100101.jpg\n",
      " pgm-bw-112-_98.jpg\n",
      " pgm-bw-115-_145.jpg\n",
      " potholes-3-greenfield-rd-psweeting.jpg\n",
      " test_275.jpg\n"
     ]
    }
   ],
   "source": [
    "!ls /content/Mask_RCNN/S3_Images/images/"
   ]
  },
  {
   "cell_type": "code",
   "execution_count": 65,
   "metadata": {
    "colab": {
     "base_uri": "https://localhost:8080/",
     "height": 34
    },
    "colab_type": "code",
    "id": "DW9JqGauJl3q",
    "outputId": "0861f819-c8d9-4e50-e9de-8be95fd84682"
   },
   "outputs": [
    {
     "name": "stdout",
     "output_type": "stream",
     "text": [
      "/content/Mask_RCNN/S3_Images/images\n"
     ]
    }
   ],
   "source": [
    "%cd /content/Mask_RCNN/S3_Images/images/"
   ]
  },
  {
   "cell_type": "code",
   "execution_count": 66,
   "metadata": {
    "colab": {
     "base_uri": "https://localhost:8080/",
     "height": 395
    },
    "colab_type": "code",
    "id": "YwcZiAacJte9",
    "outputId": "9db732b1-ec96-4420-a23a-255308b97da5"
   },
   "outputs": [
    {
     "name": "stdout",
     "output_type": "stream",
     "text": [
      "Collecting python-resize-image\n",
      "  Downloading https://files.pythonhosted.org/packages/c7/b5/01e49796187415278796d5c64f8fff750a2e27765155be20876dffaabce3/python_resize_image-1.1.18-py2.py3-none-any.whl\n",
      "Requirement already satisfied: requests>=2.19.1 in /usr/local/lib/python3.6/dist-packages (from python-resize-image) (2.21.0)\n",
      "Collecting Pillow>=5.1.0 (from python-resize-image)\n",
      "\u001b[?25l  Downloading https://files.pythonhosted.org/packages/d2/c2/f84b1e57416755e967236468dcfb0fad7fd911f707185efc4ba8834a1a94/Pillow-6.0.0-cp36-cp36m-manylinux1_x86_64.whl (2.0MB)\n",
      "\u001b[K     |████████████████████████████████| 2.0MB 13.2MB/s \n",
      "\u001b[?25hRequirement already satisfied: chardet<3.1.0,>=3.0.2 in /usr/local/lib/python3.6/dist-packages (from requests>=2.19.1->python-resize-image) (3.0.4)\n",
      "Requirement already satisfied: certifi>=2017.4.17 in /usr/local/lib/python3.6/dist-packages (from requests>=2.19.1->python-resize-image) (2019.3.9)\n",
      "Requirement already satisfied: urllib3<1.25,>=1.21.1 in /usr/local/lib/python3.6/dist-packages (from requests>=2.19.1->python-resize-image) (1.24.3)\n",
      "Requirement already satisfied: idna<2.9,>=2.5 in /usr/local/lib/python3.6/dist-packages (from requests>=2.19.1->python-resize-image) (2.8)\n",
      "\u001b[31mERROR: albumentations 0.1.12 has requirement imgaug<0.2.7,>=0.2.5, but you'll have imgaug 0.2.9 which is incompatible.\u001b[0m\n",
      "Installing collected packages: Pillow, python-resize-image\n",
      "  Found existing installation: Pillow 4.3.0\n",
      "    Uninstalling Pillow-4.3.0:\n",
      "      Successfully uninstalled Pillow-4.3.0\n",
      "Successfully installed Pillow-6.0.0 python-resize-image-1.1.18\n"
     ]
    },
    {
     "data": {
      "application/vnd.colab-display-data+json": {
       "pip_warning": {
        "packages": [
         "PIL"
        ]
       }
      }
     },
     "metadata": {
      "tags": []
     },
     "output_type": "display_data"
    }
   ],
   "source": [
    "!pip install python-resize-image"
   ]
  },
  {
   "cell_type": "code",
   "execution_count": 67,
   "metadata": {
    "colab": {
     "base_uri": "https://localhost:8080/",
     "height": 748
    },
    "colab_type": "code",
    "id": "5nr4uy5BJvDa",
    "outputId": "79adcbcd-ff2f-486b-e71f-f12a3eacf31b"
   },
   "outputs": [
    {
     "name": "stdout",
     "output_type": "stream",
     "text": [
      "1\n",
      "2\n",
      "3\n",
      "4\n",
      "5\n",
      "6\n",
      "7\n",
      "8\n",
      "9\n",
      "10\n",
      "11\n",
      "12\n",
      "13\n",
      "14\n",
      "15\n",
      "16\n",
      "17\n",
      "18\n",
      "19\n",
      "20\n",
      "21\n",
      "22\n",
      "23\n",
      "24\n",
      "25\n",
      "26\n",
      "27\n",
      "28\n",
      "29\n",
      "30\n",
      "31\n",
      "32\n",
      "Bad Image .DS_Store32\n",
      "33\n",
      "34\n",
      "35\n",
      "36\n",
      "37\n",
      "38\n",
      "39\n",
      "40\n",
      "41\n",
      "42\n"
     ]
    }
   ],
   "source": [
    "from PIL import Image\n",
    "import os\n",
    "from resizeimage import resizeimage\n",
    "\n",
    "count = 0\n",
    "\n",
    "for f in os.listdir(os.getcwd()):\n",
    "    f_name, f_ext = os.path.splitext(f)\n",
    "#     f_random, f_lat_name,f_lat_val,f_long_name,f_long_val = f_name.split('-')\n",
    "#     f_lat_val = f_lat_val.strip() ##removing the white Space\n",
    "#     f_long_val = f_long_val.strip()\n",
    "#     new_name = '{}-{}-{}.jpg'.format(f_lat_val,f_long_val,count)\n",
    "    try:\n",
    "        with Image.open(f) as image:\n",
    "            count +=1\n",
    "            cover = resizeimage.resize_cover(image, [600,600])\n",
    "            cover.save('{}{}'.format(f_name,f_ext),image.format)\n",
    "            #os.remove(f)\n",
    "            print(count)\n",
    "    except(OSError) as e:\n",
    "        print('Bad Image {}{}'.format(f,count))"
   ]
  },
  {
   "cell_type": "code",
   "execution_count": 68,
   "metadata": {
    "colab": {
     "base_uri": "https://localhost:8080/",
     "height": 34
    },
    "colab_type": "code",
    "id": "0DvQy-nVJxfQ",
    "outputId": "a762fa73-2f81-43a9-d0c2-a971f273732b"
   },
   "outputs": [
    {
     "name": "stdout",
     "output_type": "stream",
     "text": [
      "/content/Mask_RCNN\n"
     ]
    }
   ],
   "source": [
    "%cd /content/Mask_RCNN/"
   ]
  },
  {
   "cell_type": "code",
   "execution_count": 69,
   "metadata": {
    "colab": {
     "base_uri": "https://localhost:8080/",
     "height": 377
    },
    "colab_type": "code",
    "id": "SP2qUUTOJ035",
    "outputId": "5e06527f-1be8-4679-d89b-dd452c4bf0f2"
   },
   "outputs": [
    {
     "name": "stdout",
     "output_type": "stream",
     "text": [
      "--2019-05-23 05:40:52--  https://github.com/Prady96/IITM_PythonTraining/blob/master/ImageWorking_add_textInImage/fonts_Dir/OpenSans-Bold.ttf?raw=true\n",
      "Resolving github.com (github.com)... 140.82.118.4\n",
      "Connecting to github.com (github.com)|140.82.118.4|:443... connected.\n",
      "HTTP request sent, awaiting response... 302 Found\n",
      "Location: https://github.com/Prady96/IITM_PythonTraining/raw/master/ImageWorking_add_textInImage/fonts_Dir/OpenSans-Bold.ttf [following]\n",
      "--2019-05-23 05:40:53--  https://github.com/Prady96/IITM_PythonTraining/raw/master/ImageWorking_add_textInImage/fonts_Dir/OpenSans-Bold.ttf\n",
      "Reusing existing connection to github.com:443.\n",
      "HTTP request sent, awaiting response... 302 Found\n",
      "Location: https://raw.githubusercontent.com/Prady96/IITM_PythonTraining/master/ImageWorking_add_textInImage/fonts_Dir/OpenSans-Bold.ttf [following]\n",
      "--2019-05-23 05:40:53--  https://raw.githubusercontent.com/Prady96/IITM_PythonTraining/master/ImageWorking_add_textInImage/fonts_Dir/OpenSans-Bold.ttf\n",
      "Resolving raw.githubusercontent.com (raw.githubusercontent.com)... 151.101.0.133, 151.101.64.133, 151.101.128.133, ...\n",
      "Connecting to raw.githubusercontent.com (raw.githubusercontent.com)|151.101.0.133|:443... connected.\n",
      "HTTP request sent, awaiting response... 200 OK\n",
      "Length: 224592 (219K) [application/octet-stream]\n",
      "Saving to: ‘OpenSans-Bold.ttf?raw=true’\n",
      "\n",
      "OpenSans-Bold.ttf?r 100%[===================>] 219.33K  --.-KB/s    in 0.02s   \n",
      "\n",
      "2019-05-23 05:40:53 (13.9 MB/s) - ‘OpenSans-Bold.ttf?raw=true’ saved [224592/224592]\n",
      "\n"
     ]
    }
   ],
   "source": [
    "!wget https://github.com/Prady96/IITM_PythonTraining/blob/master/ImageWorking_add_textInImage/fonts_Dir/OpenSans-Bold.ttf?raw=true"
   ]
  },
  {
   "cell_type": "code",
   "execution_count": 0,
   "metadata": {
    "colab": {},
    "colab_type": "code",
    "id": "CB3kYpQXJ2mZ"
   },
   "outputs": [],
   "source": [
    "!mv OpenSans-Bold.ttf?raw=true OpenSans-Bold.ttf"
   ]
  },
  {
   "cell_type": "code",
   "execution_count": 71,
   "metadata": {
    "colab": {
     "base_uri": "https://localhost:8080/",
     "height": 85
    },
    "colab_type": "code",
    "id": "rRlAhOHVJ5MH",
    "outputId": "29ffa313-26b9-4533-ca49-814ae7ad5240"
   },
   "outputs": [
    {
     "name": "stdout",
     "output_type": "stream",
     "text": [
      "assets\t      dist     MANIFEST.in\t   __pycache__\t     samples\n",
      "build\t      images   mask_rcnn.egg-info  README.md\t     setup.cfg\n",
      "customImages  LICENSE  mrcnn\t\t   requirements.txt  setup.py\n",
      "custom.py     logs     OpenSans-Bold.ttf   S3_Images\n"
     ]
    }
   ],
   "source": [
    "!ls"
   ]
  },
  {
   "cell_type": "code",
   "execution_count": 72,
   "metadata": {
    "colab": {
     "base_uri": "https://localhost:8080/",
     "height": 8928
    },
    "colab_type": "code",
    "id": "6iD1e1wlJ7Qf",
    "outputId": "dbeb59ac-c22b-409a-a589-7e6fe5a61dff"
   },
   "outputs": [
    {
     "name": "stdout",
     "output_type": "stream",
     "text": [
      "\n",
      "Configurations:\n",
      "BACKBONE                       resnet101\n",
      "BACKBONE_STRIDES               [4, 8, 16, 32, 64]\n",
      "BATCH_SIZE                     3\n",
      "BBOX_STD_DEV                   [0.1 0.1 0.2 0.2]\n",
      "COMPUTE_BACKBONE_SHAPE         None\n",
      "DETECTION_MAX_INSTANCES        100\n",
      "DETECTION_MIN_CONFIDENCE       0.7\n",
      "DETECTION_NMS_THRESHOLD        0.3\n",
      "FPN_CLASSIF_FC_LAYERS_SIZE     1024\n",
      "GPU_COUNT                      1\n",
      "GRADIENT_CLIP_NORM             5.0\n",
      "IMAGES_PER_GPU                 3\n",
      "IMAGE_CHANNEL_COUNT            3\n",
      "IMAGE_MAX_DIM                  1024\n",
      "IMAGE_META_SIZE                14\n",
      "IMAGE_MIN_DIM                  800\n",
      "IMAGE_MIN_SCALE                0\n",
      "IMAGE_RESIZE_MODE              square\n",
      "IMAGE_SHAPE                    [1024 1024    3]\n",
      "LEARNING_MOMENTUM              0.9\n",
      "LEARNING_RATE                  0.001\n",
      "LOSS_WEIGHTS                   {'rpn_class_loss': 1.0, 'rpn_bbox_loss': 1.0, 'mrcnn_class_loss': 1.0, 'mrcnn_bbox_loss': 1.0, 'mrcnn_mask_loss': 1.0}\n",
      "MASK_POOL_SIZE                 14\n",
      "MASK_SHAPE                     [28, 28]\n",
      "MAX_GT_INSTANCES               100\n",
      "MEAN_PIXEL                     [123.7 116.8 103.9]\n",
      "MINI_MASK_SHAPE                (56, 56)\n",
      "NAME                           damage\n",
      "NUM_CLASSES                    2\n",
      "POOL_SIZE                      7\n",
      "POST_NMS_ROIS_INFERENCE        1000\n",
      "POST_NMS_ROIS_TRAINING         2000\n",
      "PRE_NMS_LIMIT                  6000\n",
      "ROI_POSITIVE_RATIO             0.33\n",
      "RPN_ANCHOR_RATIOS              [0.5, 1, 2]\n",
      "RPN_ANCHOR_SCALES              (32, 64, 128, 256, 512)\n",
      "RPN_ANCHOR_STRIDE              1\n",
      "RPN_BBOX_STD_DEV               [0.1 0.1 0.2 0.2]\n",
      "RPN_NMS_THRESHOLD              0.7\n",
      "RPN_TRAIN_ANCHORS_PER_IMAGE    256\n",
      "STEPS_PER_EPOCH                1000\n",
      "TOP_DOWN_PYRAMID_SIZE          256\n",
      "TRAIN_BN                       False\n",
      "TRAIN_ROIS_PER_IMAGE           200\n",
      "USE_MINI_MASK                  True\n",
      "USE_RPN_ROIS                   True\n",
      "VALIDATION_STEPS               50\n",
      "WEIGHT_DECAY                   0.0001\n",
      "\n",
      "\n",
      "frame_count :1\n",
      "frame_count :2\n",
      "frame_count :3\n",
      "Predicted\n",
      "NO INSTANCES TO DISPLAY\n",
      "writing to file:/content/Mask_RCNN/videos/save/img00bd1-lat-28.5536884-long-77.2669158.jpeg\n",
      "\n",
      "*** No instances in image /content/Mask_RCNN/videos/save/img00bd1-lat-28.5536884-long-77.2669158.jpeg to draw *** \n",
      "\n",
      "NO INSTANCES TO DISPLAY\n",
      "writing to file:/content/Mask_RCNN/videos/save/img00bd1-lat-28.5536884-long-77.2669158.jpeg\n",
      "\n",
      "*** No instances in image /content/Mask_RCNN/videos/save/img00bd1-lat-28.5536884-long-77.2669158.jpeg to draw *** \n",
      "\n",
      "NO INSTANCES TO DISPLAY\n",
      "writing to file:/content/Mask_RCNN/videos/save/img00bd1-lat-28.5536884-long-77.2669158.jpeg\n",
      "\n",
      "*** No instances in image /content/Mask_RCNN/videos/save/img00bd1-lat-28.5536884-long-77.2669158.jpeg to draw *** \n",
      "\n",
      "clear\n",
      "frame_count :4\n",
      "frame_count :5\n",
      "frame_count :6\n",
      "Predicted\n",
      "NO INSTANCES TO DISPLAY\n",
      "writing to file:/content/Mask_RCNN/videos/save/\\frame3.jpg\n",
      "\n",
      "*** No instances in image /content/Mask_RCNN/videos/save/\\frame3.jpg to draw *** \n",
      "\n",
      "NO INSTANCES TO DISPLAY\n",
      "writing to file:/content/Mask_RCNN/videos/save/\\frame3.jpg\n",
      "\n",
      "*** No instances in image /content/Mask_RCNN/videos/save/\\frame3.jpg to draw *** \n",
      "\n",
      "writing to file:/content/Mask_RCNN/videos/save/\\frame3.jpg\n",
      "class_id value is 1\n",
      "counter for the class ID 1\n",
      "area is 100835\n",
      "class_id value is 1\n",
      "counter for the class ID 2\n",
      "area is 4752\n",
      "class_id value is 1\n",
      "counter for the class ID 3\n",
      "area is 31860\n",
      "[1 1 1] [0.99894387 0.9983626  0.99591905]\n",
      "[100835, 4752, 31860]\n",
      "image_name is /content/Mask_RCNN/videos/save/\\frame3.jpg\n",
      "image name is \\frame3.jpg\n",
      "avi96 [100835, 4752, 31860]\n",
      "New Name file is [100835, 4752, 31860]-[0.99894387 0.9983626  0.99591905].jpg\n",
      "save_dir is /content/Mask_RCNN/videos/save\n",
      "file Saved [100835, 4752, 31860]-[0.99894387 0.9983626  0.99591905].jpg\n",
      "clear\n",
      "frame_count :7\n",
      "frame_count :8\n",
      "frame_count :9\n",
      "Predicted\n",
      "NO INSTANCES TO DISPLAY\n",
      "writing to file:/content/Mask_RCNN/videos/save/Muroran_20170920113720.jpg\n",
      "\n",
      "*** No instances in image /content/Mask_RCNN/videos/save/Muroran_20170920113720.jpg to draw *** \n",
      "\n",
      "writing to file:/content/Mask_RCNN/videos/save/Muroran_20170920113720.jpg\n",
      "class_id value is 1\n",
      "counter for the class ID 1\n",
      "area is 250\n",
      "class_id value is 1\n",
      "counter for the class ID 2\n",
      "area is 260\n",
      "[1 1] [0.9999243 0.8455281]\n",
      "[250, 260]\n",
      "image_name is /content/Mask_RCNN/videos/save/Muroran_20170920113720.jpg\n",
      "image name is Muroran_20170920113720.jpg\n",
      "avi96 [250, 260]\n",
      "New Name file is [250, 260]-[0.9999243 0.8455281].jpg\n",
      "save_dir is /content/Mask_RCNN/videos/save\n",
      "file Saved [250, 260]-[0.9999243 0.8455281].jpg\n",
      "NO INSTANCES TO DISPLAY\n",
      "writing to file:/content/Mask_RCNN/videos/save/Muroran_20170920113720.jpg\n",
      "\n",
      "*** No instances in image /content/Mask_RCNN/videos/save/Muroran_20170920113720.jpg to draw *** \n",
      "\n",
      "clear\n",
      "frame_count :10\n",
      "frame_count :11\n",
      "frame_count :12\n",
      "Predicted\n",
      "writing to file:/content/Mask_RCNN/videos/save/GtooxLZodzIddzZT.jpg\n",
      "class_id value is 1\n",
      "counter for the class ID 1\n",
      "area is 429\n",
      "[1] [0.9999603]\n",
      "[429]\n",
      "image_name is /content/Mask_RCNN/videos/save/GtooxLZodzIddzZT.jpg\n",
      "image name is GtooxLZodzIddzZT.jpg\n",
      "avi96 [429]\n",
      "New Name file is [429]-[0.9999603].jpg\n",
      "save_dir is /content/Mask_RCNN/videos/save\n",
      "file Saved [429]-[0.9999603].jpg\n",
      "writing to file:/content/Mask_RCNN/videos/save/GtooxLZodzIddzZT.jpg\n",
      "class_id value is 1\n",
      "counter for the class ID 1\n",
      "area is 4935\n",
      "[1] [0.9999962]\n",
      "[4935]\n",
      "image_name is /content/Mask_RCNN/videos/save/GtooxLZodzIddzZT.jpg\n",
      "image name is GtooxLZodzIddzZT.jpg\n",
      "avi96 [4935]\n",
      "New Name file is [4935]-[0.9999962].jpg\n",
      "save_dir is /content/Mask_RCNN/videos/save\n",
      "file Saved [4935]-[0.9999962].jpg\n",
      "writing to file:/content/Mask_RCNN/videos/save/GtooxLZodzIddzZT.jpg\n",
      "class_id value is 1\n",
      "counter for the class ID 1\n",
      "area is 480\n",
      "class_id value is 1\n",
      "counter for the class ID 2\n",
      "area is 416\n",
      "[1 1] [0.99973744 0.98802954]\n",
      "[480, 416]\n",
      "image_name is /content/Mask_RCNN/videos/save/GtooxLZodzIddzZT.jpg\n",
      "image name is GtooxLZodzIddzZT.jpg\n",
      "avi96 [480, 416]\n",
      "New Name file is [480, 416]-[0.99973744 0.98802954].jpg\n",
      "save_dir is /content/Mask_RCNN/videos/save\n",
      "file Saved [480, 416]-[0.99973744 0.98802954].jpg\n",
      "clear\n",
      "frame_count :13\n",
      "frame_count :14\n",
      "frame_count :15\n",
      "Predicted\n",
      "NO INSTANCES TO DISPLAY\n",
      "writing to file:/content/Mask_RCNN/videos/save/351.jpg\n",
      "\n",
      "*** No instances in image /content/Mask_RCNN/videos/save/351.jpg to draw *** \n",
      "\n",
      "NO INSTANCES TO DISPLAY\n",
      "writing to file:/content/Mask_RCNN/videos/save/351.jpg\n",
      "\n",
      "*** No instances in image /content/Mask_RCNN/videos/save/351.jpg to draw *** \n",
      "\n",
      "writing to file:/content/Mask_RCNN/videos/save/351.jpg\n",
      "class_id value is 1\n",
      "counter for the class ID 1\n",
      "area is 546\n",
      "[1] [0.9994134]\n",
      "[546]\n",
      "image_name is /content/Mask_RCNN/videos/save/351.jpg\n",
      "image name is 351.jpg\n",
      "avi96 [546]\n",
      "New Name file is [546]-[0.9994134].jpg\n",
      "save_dir is /content/Mask_RCNN/videos/save\n",
      "file Saved [546]-[0.9994134].jpg\n",
      "clear\n",
      "frame_count :16\n",
      "frame_count :17\n",
      "frame_count :18\n",
      "Predicted\n",
      "NO INSTANCES TO DISPLAY\n",
      "writing to file:/content/Mask_RCNN/videos/save/img0d7ac-lat-28.5536884-long-77.2669158.jpeg\n",
      "\n",
      "*** No instances in image /content/Mask_RCNN/videos/save/img0d7ac-lat-28.5536884-long-77.2669158.jpeg to draw *** \n",
      "\n",
      "writing to file:/content/Mask_RCNN/videos/save/img0d7ac-lat-28.5536884-long-77.2669158.jpeg\n",
      "class_id value is 1\n",
      "counter for the class ID 1\n",
      "area is 816\n",
      "class_id value is 1\n",
      "counter for the class ID 2\n",
      "area is 176\n",
      "[1 1] [0.99922216 0.99323297]\n",
      "[816, 176]\n",
      "image_name is /content/Mask_RCNN/videos/save/img0d7ac-lat-28.5536884-long-77.2669158.jpeg\n",
      "image name is img0d7ac-lat-28.5536884-long-77.2669158.jpeg\n",
      "avi96 [816, 176]\n",
      "New Name file is [816, 176]-[0.99922216 0.99323297].jpg\n",
      "save_dir is /content/Mask_RCNN/videos/save\n",
      "file Saved [816, 176]-[0.99922216 0.99323297].jpg\n",
      "NO INSTANCES TO DISPLAY\n",
      "writing to file:/content/Mask_RCNN/videos/save/img0d7ac-lat-28.5536884-long-77.2669158.jpeg\n",
      "\n",
      "*** No instances in image /content/Mask_RCNN/videos/save/img0d7ac-lat-28.5536884-long-77.2669158.jpeg to draw *** \n",
      "\n",
      "clear\n",
      "frame_count :19\n",
      "frame_count :20\n",
      "frame_count :21\n",
      "Predicted\n",
      "writing to file:/content/Mask_RCNN/videos/save/potholes-3-greenfield-rd-psweeting.jpg\n",
      "class_id value is 1\n",
      "counter for the class ID 1\n",
      "area is 250\n",
      "class_id value is 1\n",
      "counter for the class ID 2\n",
      "area is 720\n",
      "[1 1] [0.98426384 0.9620987 ]\n",
      "[250, 720]\n",
      "image_name is /content/Mask_RCNN/videos/save/potholes-3-greenfield-rd-psweeting.jpg\n",
      "image name is potholes-3-greenfield-rd-psweeting.jpg\n",
      "avi96 [250, 720]\n",
      "New Name file is [250, 720]-[0.98426384 0.9620987 ].jpg\n",
      "save_dir is /content/Mask_RCNN/videos/save\n",
      "file Saved [250, 720]-[0.98426384 0.9620987 ].jpg\n",
      "NO INSTANCES TO DISPLAY\n",
      "writing to file:/content/Mask_RCNN/videos/save/potholes-3-greenfield-rd-psweeting.jpg\n",
      "\n",
      "*** No instances in image /content/Mask_RCNN/videos/save/potholes-3-greenfield-rd-psweeting.jpg to draw *** \n",
      "\n",
      "writing to file:/content/Mask_RCNN/videos/save/potholes-3-greenfield-rd-psweeting.jpg\n",
      "class_id value is 1\n",
      "counter for the class ID 1\n",
      "area is 440\n",
      "[1] [0.9712983]\n",
      "[440]\n",
      "image_name is /content/Mask_RCNN/videos/save/potholes-3-greenfield-rd-psweeting.jpg\n",
      "image name is potholes-3-greenfield-rd-psweeting.jpg\n",
      "avi96 [440]\n",
      "New Name file is [440]-[0.9712983].jpg\n",
      "save_dir is /content/Mask_RCNN/videos/save\n",
      "file Saved [440]-[0.9712983].jpg\n",
      "clear\n",
      "frame_count :22\n",
      "frame_count :23\n",
      "frame_count :24\n",
      "Predicted\n",
      "writing to file:/content/Mask_RCNN/videos/save/3cdffa93-a892-4247-82ff-0aab233dbfa1.mov-0001.jpg\n",
      "class_id value is 1\n",
      "counter for the class ID 1\n",
      "area is 1560\n",
      "[1] [0.99997425]\n",
      "[1560]\n",
      "image_name is /content/Mask_RCNN/videos/save/3cdffa93-a892-4247-82ff-0aab233dbfa1.mov-0001.jpg\n",
      "image name is 3cdffa93-a892-4247-82ff-0aab233dbfa1.mov-0001.jpg\n",
      "avi96 [1560]\n",
      "New Name file is [1560]-[0.99997425].jpg\n",
      "save_dir is /content/Mask_RCNN/videos/save\n",
      "file Saved [1560]-[0.99997425].jpg\n",
      "writing to file:/content/Mask_RCNN/videos/save/3cdffa93-a892-4247-82ff-0aab233dbfa1.mov-0001.jpg\n",
      "class_id value is 1\n",
      "counter for the class ID 1\n",
      "area is 384\n",
      "class_id value is 1\n",
      "counter for the class ID 2\n",
      "area is 1449\n",
      "[1 1] [0.997591  0.8543571]\n",
      "[384, 1449]\n",
      "image_name is /content/Mask_RCNN/videos/save/3cdffa93-a892-4247-82ff-0aab233dbfa1.mov-0001.jpg\n",
      "image name is 3cdffa93-a892-4247-82ff-0aab233dbfa1.mov-0001.jpg\n",
      "avi96 [384, 1449]\n",
      "New Name file is [384, 1449]-[0.997591  0.8543571].jpg\n",
      "save_dir is /content/Mask_RCNN/videos/save\n",
      "file Saved [384, 1449]-[0.997591  0.8543571].jpg\n",
      "NO INSTANCES TO DISPLAY\n",
      "writing to file:/content/Mask_RCNN/videos/save/3cdffa93-a892-4247-82ff-0aab233dbfa1.mov-0001.jpg\n",
      "\n",
      "*** No instances in image /content/Mask_RCNN/videos/save/3cdffa93-a892-4247-82ff-0aab233dbfa1.mov-0001.jpg to draw *** \n",
      "\n",
      "clear\n",
      "frame_count :25\n",
      "frame_count :26\n",
      "frame_count :27\n",
      "Predicted\n",
      "writing to file:/content/Mask_RCNN/videos/save/3dade430-d240-447e-a942-5bed90d8d11e.mov-0001.jpg\n",
      "class_id value is 1\n",
      "counter for the class ID 1\n",
      "area is 2775\n",
      "[1] [0.9999815]\n",
      "[2775]\n",
      "image_name is /content/Mask_RCNN/videos/save/3dade430-d240-447e-a942-5bed90d8d11e.mov-0001.jpg\n",
      "image name is 3dade430-d240-447e-a942-5bed90d8d11e.mov-0001.jpg\n",
      "avi96 [2775]\n",
      "New Name file is [2775]-[0.9999815].jpg\n",
      "save_dir is /content/Mask_RCNN/videos/save\n",
      "file Saved [2775]-[0.9999815].jpg\n",
      "NO INSTANCES TO DISPLAY\n",
      "writing to file:/content/Mask_RCNN/videos/save/3dade430-d240-447e-a942-5bed90d8d11e.mov-0001.jpg\n",
      "\n",
      "*** No instances in image /content/Mask_RCNN/videos/save/3dade430-d240-447e-a942-5bed90d8d11e.mov-0001.jpg to draw *** \n",
      "\n",
      "NO INSTANCES TO DISPLAY\n",
      "writing to file:/content/Mask_RCNN/videos/save/3dade430-d240-447e-a942-5bed90d8d11e.mov-0001.jpg\n",
      "\n",
      "*** No instances in image /content/Mask_RCNN/videos/save/3dade430-d240-447e-a942-5bed90d8d11e.mov-0001.jpg to draw *** \n",
      "\n",
      "clear\n",
      "frame_count :28\n",
      "frame_count :29\n",
      "frame_count :30\n",
      "Predicted\n",
      "NO INSTANCES TO DISPLAY\n",
      "writing to file:/content/Mask_RCNN/videos/save/img01aa4-lat-28.5557378-long-77.2658383.jpeg\n",
      "\n",
      "*** No instances in image /content/Mask_RCNN/videos/save/img01aa4-lat-28.5557378-long-77.2658383.jpeg to draw *** \n",
      "\n",
      "writing to file:/content/Mask_RCNN/videos/save/img01aa4-lat-28.5557378-long-77.2658383.jpeg\n",
      "class_id value is 1\n",
      "counter for the class ID 1\n",
      "area is 286\n",
      "class_id value is 1\n",
      "counter for the class ID 2\n",
      "area is 330\n",
      "class_id value is 1\n",
      "counter for the class ID 3\n",
      "area is 416\n",
      "class_id value is 1\n",
      "counter for the class ID 4\n",
      "area is 418\n",
      "[1 1 1 1] [0.98072284 0.92764556 0.87470007 0.873562  ]\n",
      "[286, 330, 416, 418]\n",
      "image_name is /content/Mask_RCNN/videos/save/img01aa4-lat-28.5557378-long-77.2658383.jpeg\n",
      "image name is img01aa4-lat-28.5557378-long-77.2658383.jpeg\n",
      "avi96 [286, 330, 416, 418]\n",
      "New Name file is [286, 330, 416, 418]-[0.98072284 0.92764556 0.87470007 0.873562  ].jpg\n",
      "save_dir is /content/Mask_RCNN/videos/save\n",
      "file Saved [286, 330, 416, 418]-[0.98072284 0.92764556 0.87470007 0.873562  ].jpg\n",
      "writing to file:/content/Mask_RCNN/videos/save/img01aa4-lat-28.5557378-long-77.2658383.jpeg\n",
      "class_id value is 1\n",
      "counter for the class ID 1\n",
      "area is 290\n",
      "[1] [0.9997447]\n",
      "[290]\n",
      "image_name is /content/Mask_RCNN/videos/save/img01aa4-lat-28.5557378-long-77.2658383.jpeg\n",
      "image name is img01aa4-lat-28.5557378-long-77.2658383.jpeg\n",
      "avi96 [290]\n",
      "New Name file is [290]-[0.9997447].jpg\n",
      "save_dir is /content/Mask_RCNN/videos/save\n",
      "file Saved [290]-[0.9997447].jpg\n",
      "clear\n",
      "frame_count :31\n",
      "frame_count :32\n",
      "Bad Image /content/Mask_RCNN/S3_Images/images/.DS_Store\n",
      "frame_count :33\n",
      "Predicted\n",
      "writing to file:/content/Mask_RCNN/videos/save/3cb4869a-247a-452e-a9ed-051db987dc27.mov-0001.jpg\n",
      "class_id value is 1\n",
      "counter for the class ID 1\n",
      "area is 85\n",
      "class_id value is 1\n",
      "counter for the class ID 2\n",
      "area is 196\n",
      "class_id value is 1\n",
      "counter for the class ID 3\n",
      "area is 75\n",
      "[1 1 1] [0.9978288  0.9905183  0.98221266]\n",
      "[85, 196, 75]\n",
      "image_name is /content/Mask_RCNN/videos/save/3cb4869a-247a-452e-a9ed-051db987dc27.mov-0001.jpg\n",
      "image name is 3cb4869a-247a-452e-a9ed-051db987dc27.mov-0001.jpg\n",
      "avi96 [85, 196, 75]\n",
      "New Name file is [85, 196, 75]-[0.9978288  0.9905183  0.98221266].jpg\n",
      "save_dir is /content/Mask_RCNN/videos/save\n",
      "file Saved [85, 196, 75]-[0.9978288  0.9905183  0.98221266].jpg\n",
      "NO INSTANCES TO DISPLAY\n",
      "writing to file:/content/Mask_RCNN/videos/save/3cb4869a-247a-452e-a9ed-051db987dc27.mov-0001.jpg\n",
      "\n",
      "*** No instances in image /content/Mask_RCNN/videos/save/3cb4869a-247a-452e-a9ed-051db987dc27.mov-0001.jpg to draw *** \n",
      "\n",
      "NO INSTANCES TO DISPLAY\n",
      "writing to file:/content/Mask_RCNN/videos/save/3cb4869a-247a-452e-a9ed-051db987dc27.mov-0001.jpg\n",
      "\n",
      "*** No instances in image /content/Mask_RCNN/videos/save/3cb4869a-247a-452e-a9ed-051db987dc27.mov-0001.jpg to draw *** \n",
      "\n",
      "clear\n",
      "frame_count :34\n",
      "frame_count :35\n",
      "frame_count :36\n",
      "Predicted\n",
      "NO INSTANCES TO DISPLAY\n",
      "writing to file:/content/Mask_RCNN/videos/save/4173.jpg\n",
      "\n",
      "*** No instances in image /content/Mask_RCNN/videos/save/4173.jpg to draw *** \n",
      "\n",
      "writing to file:/content/Mask_RCNN/videos/save/4173.jpg\n",
      "class_id value is 1\n",
      "counter for the class ID 1\n",
      "area is 3024\n",
      "[1] [0.999912]\n",
      "[3024]\n",
      "image_name is /content/Mask_RCNN/videos/save/4173.jpg\n",
      "image name is 4173.jpg\n",
      "avi96 [3024]\n",
      "New Name file is [3024]-[0.999912].jpg\n",
      "save_dir is /content/Mask_RCNN/videos/save\n",
      "file Saved [3024]-[0.999912].jpg\n",
      "writing to file:/content/Mask_RCNN/videos/save/4173.jpg\n",
      "class_id value is 1\n",
      "counter for the class ID 1\n",
      "area is 13719\n",
      "class_id value is 1\n",
      "counter for the class ID 2\n",
      "area is 10044\n",
      "class_id value is 1\n",
      "counter for the class ID 3\n",
      "area is 17577\n",
      "class_id value is 1\n",
      "counter for the class ID 4\n",
      "area is 9504\n",
      "class_id value is 1\n",
      "counter for the class ID 5\n",
      "area is 3774\n",
      "[1 1 1 1 1] [0.99999344 0.9999933  0.99996066 0.99993455 0.99992   ]\n",
      "[13719, 10044, 17577, 9504, 3774]\n",
      "image_name is /content/Mask_RCNN/videos/save/4173.jpg\n",
      "image name is 4173.jpg\n",
      "avi96 [13719, 10044, 17577, 9504, 3774]\n",
      "New Name file is [13719, 10044, 17577, 9504, 3774]-[0.99999344 0.9999933  0.99996066 0.99993455 0.99992   ].jpg\n",
      "save_dir is /content/Mask_RCNN/videos/save\n",
      "file Saved [13719, 10044, 17577, 9504, 3774]-[0.99999344 0.9999933  0.99996066 0.99993455 0.99992   ].jpg\n",
      "clear\n",
      "frame_count :37\n",
      "frame_count :38\n",
      "frame_count :39\n",
      "Predicted\n",
      "writing to file:/content/Mask_RCNN/videos/save/1f2ea472-beb4-4ee9-b3fd-4de6e26c6d62.mov-0001.jpg\n",
      "class_id value is 1\n",
      "counter for the class ID 1\n",
      "area is 264\n",
      "[1] [0.8035971]\n",
      "[264]\n",
      "image_name is /content/Mask_RCNN/videos/save/1f2ea472-beb4-4ee9-b3fd-4de6e26c6d62.mov-0001.jpg\n",
      "image name is 1f2ea472-beb4-4ee9-b3fd-4de6e26c6d62.mov-0001.jpg\n",
      "avi96 [264]\n",
      "New Name file is [264]-[0.8035971].jpg\n",
      "save_dir is /content/Mask_RCNN/videos/save\n",
      "file Saved [264]-[0.8035971].jpg\n",
      "NO INSTANCES TO DISPLAY\n",
      "writing to file:/content/Mask_RCNN/videos/save/1f2ea472-beb4-4ee9-b3fd-4de6e26c6d62.mov-0001.jpg\n",
      "\n",
      "*** No instances in image /content/Mask_RCNN/videos/save/1f2ea472-beb4-4ee9-b3fd-4de6e26c6d62.mov-0001.jpg to draw *** \n",
      "\n",
      "NO INSTANCES TO DISPLAY\n",
      "writing to file:/content/Mask_RCNN/videos/save/1f2ea472-beb4-4ee9-b3fd-4de6e26c6d62.mov-0001.jpg\n",
      "\n",
      "*** No instances in image /content/Mask_RCNN/videos/save/1f2ea472-beb4-4ee9-b3fd-4de6e26c6d62.mov-0001.jpg to draw *** \n",
      "\n",
      "clear\n",
      "frame_count :40\n",
      "frame_count :41\n",
      "frame_count :42\n",
      "Predicted\n",
      "writing to file:/content/Mask_RCNN/videos/save/03d51b5e-ba51-4b83-a40b-e7294e8e976a.mov-0001.jpg\n",
      "class_id value is 1\n",
      "counter for the class ID 1\n",
      "area is 319\n",
      "[1] [0.9997627]\n",
      "[319]\n",
      "image_name is /content/Mask_RCNN/videos/save/03d51b5e-ba51-4b83-a40b-e7294e8e976a.mov-0001.jpg\n",
      "image name is 03d51b5e-ba51-4b83-a40b-e7294e8e976a.mov-0001.jpg\n",
      "avi96 [319]\n",
      "New Name file is [319]-[0.9997627].jpg\n",
      "save_dir is /content/Mask_RCNN/videos/save\n",
      "file Saved [319]-[0.9997627].jpg\n",
      "writing to file:/content/Mask_RCNN/videos/save/03d51b5e-ba51-4b83-a40b-e7294e8e976a.mov-0001.jpg\n",
      "class_id value is 1\n",
      "counter for the class ID 1\n",
      "area is 4556\n",
      "[1] [0.99999726]\n",
      "[4556]\n",
      "image_name is /content/Mask_RCNN/videos/save/03d51b5e-ba51-4b83-a40b-e7294e8e976a.mov-0001.jpg\n",
      "image name is 03d51b5e-ba51-4b83-a40b-e7294e8e976a.mov-0001.jpg\n",
      "avi96 [4556]\n",
      "New Name file is [4556]-[0.99999726].jpg\n",
      "save_dir is /content/Mask_RCNN/videos/save\n",
      "file Saved [4556]-[0.99999726].jpg\n",
      "NO INSTANCES TO DISPLAY\n",
      "writing to file:/content/Mask_RCNN/videos/save/03d51b5e-ba51-4b83-a40b-e7294e8e976a.mov-0001.jpg\n",
      "\n",
      "*** No instances in image /content/Mask_RCNN/videos/save/03d51b5e-ba51-4b83-a40b-e7294e8e976a.mov-0001.jpg to draw *** \n",
      "\n",
      "clear\n",
      "Success, check the folder\n"
     ]
    },
    {
     "data": {
      "text/plain": [
       "\"\\n    ## Code for the video section\\n    frames = []\\n    frame_count = 0\\n    # these 2 lines can be removed if you dont have a 1080p camera.\\n    capture.set(cv2.CAP_PROP_FRAME_WIDTH, 1920)\\n    capture.set(cv2.CAP_PROP_FRAME_HEIGHT, 1080)\\n\\n\\n    while True:\\n        ret, frame = capture.read()\\n        # Bail out when the video file ends\\n        if not ret:\\n            break\\n\\n        # Save each frame of the video to a list\\n        frame_count += 1\\n        frames.append(frame)\\n        print('frame_count :{0}'.format(frame_count))\\n        if len(frames) == batch_size:\\n            results = model.detect(frames, verbose=0)\\n            print('Predicted')\\n            for i, item in enumerate(zip(frames, results)):\\n                frame = item[0]\\n                r = item[1]\\n                frame = display_instances(\\n                    frame, r['rois'], r['masks'], r['class_ids'], class_names, r['scores']\\n                )\\n#                 name = '{0}.jpg'.format(frame_count + i - batch_size)\\n#                 name = os.path.join(VIDEO_SAVE_DIR, name)\\n#                 cv2.imwrite(name, frame)\\n#                 print('writing to file:{0}'.format(name))\\n                ## add visualise files\\n#                 visualize.display_instances(image, r['rois'], r['masks'], r['class_ids'],\\n#                             class_names, r['scores'])\\n                save_image(image, name, r['rois'], r['masks'], r['class_ids'],\\n                                     r['scores'],class_names, save_dir=VIDEO_SAVE_DIR, mode=0)\\n#                 print(r['class_ids'], r['scores'])\\n\\n            # Clear the frames array to start the next batch\\n            frames = []\\n\\n    capture.release()\\n\""
      ]
     },
     "execution_count": 72,
     "metadata": {
      "tags": []
     },
     "output_type": "execute_result"
    }
   ],
   "source": [
    "# Main file for the file iteration\n",
    "import cv2\n",
    "import numpy as np\n",
    "from PIL import Image, ImageDraw, ImageFont\n",
    "myList = [] ## area list\n",
    "classList = [] ##class Id List\n",
    "\n",
    "def random_colors(N):\n",
    "    np.random.seed(1)\n",
    "    colors = [tuple(255 * np.random.rand(3)) for _ in range(N)]\n",
    "    return colors\n",
    "\n",
    "\n",
    "def apply_mask(image, mask, color, alpha=0.5):\n",
    "    \"\"\"apply mask to image\"\"\"\n",
    "    for n, c in enumerate(color):\n",
    "        image[:, :, n] = np.where(\n",
    "            mask == 1,\n",
    "            image[:, :, n] * (1 - alpha) + alpha * c,\n",
    "            image[:, :, n]\n",
    "        )\n",
    "    return image\n",
    "\n",
    "\n",
    "def display_instances(image, boxes, masks, ids, names, scores):\n",
    "    \"\"\"\n",
    "        take the image and results and apply the mask, box, and Label\n",
    "    \"\"\"\n",
    "    n_instances = boxes.shape[0]\n",
    "    colors = random_colors(n_instances)\n",
    "\n",
    "    if not n_instances:\n",
    "        print('NO INSTANCES TO DISPLAY')\n",
    "    else:\n",
    "        assert boxes.shape[0] == masks.shape[-1] == ids.shape[0]\n",
    "\n",
    "    for i, color in enumerate(colors):\n",
    "        if not np.any(boxes[i]):\n",
    "            continue\n",
    "\n",
    "        y1, x1, y2, x2 = boxes[i]\n",
    "        label = names[ids[i]]\n",
    "        score = scores[i] if scores is not None else None\n",
    "        caption = '{} {:.2f}'.format(label, score) if score else label\n",
    "        mask = masks[:, :, i]\n",
    "\n",
    "        image = apply_mask(image, mask, color)\n",
    "        image = cv2.rectangle(image, (x1, y1), (x2, y2), color, 2)\n",
    "        image = cv2.putText(\n",
    "            image, caption, (x1, y1), cv2.FONT_HERSHEY_COMPLEX, 0.7, color, 2\n",
    "        )\n",
    "\n",
    "    return image\n",
    "\n",
    "\n",
    "def save_image(image, image_name, boxes, masks, class_ids, scores, class_names, filter_classs_names=None,\n",
    "               scores_thresh=0.1, save_dir=None, mode=0):\n",
    "    \"\"\"\n",
    "        image: image array\n",
    "        image_name: image name\n",
    "        boxes: [num_instance, (y1, x1, y2, x2, class_id)] in image coordinates.\n",
    "        masks: [num_instances, height, width]\n",
    "        class_ids: [num_instances]\n",
    "        scores: confidence scores for each box\n",
    "        class_names: list of class names of the dataset\n",
    "        filter_classs_names: (optional) list of class names we want to draw\n",
    "        scores_thresh: (optional) threshold of confidence scores\n",
    "        save_dir: (optional) the path to store image\n",
    "        mode: (optional) select the result which you want\n",
    "                mode = 0 , save image with bbox,class_name,score and mask;\n",
    "                mode = 1 , save image with bbox,class_name and score;\n",
    "                mode = 2 , save image with class_name,score and mask;\n",
    "                mode = 3 , save mask with black background;\n",
    "    \"\"\"\n",
    "    mode_list = [0, 1, 2, 3]\n",
    "    assert mode in mode_list, \"mode's value should in mode_list %s\" % str(mode_list)\n",
    "\n",
    "    if save_dir is None:\n",
    "        save_dir = os.path.join(os.getcwd(), \"output\")\n",
    "        if not os.path.exists(save_dir):\n",
    "            os.makedirs(save_dir)\n",
    "\n",
    "    useful_mask_indices = []\n",
    "\n",
    "    N = boxes.shape[0]\n",
    "    if not N:\n",
    "        print(\"\\n*** No instances in image %s to draw *** \\n\" % (image_name))\n",
    "        return\n",
    "    else:\n",
    "        assert boxes.shape[0] == masks.shape[-1] == class_ids.shape[0]\n",
    "\n",
    "    for i in range(N):\n",
    "        # filter\n",
    "        class_id = class_ids[i]\n",
    "        score = scores[i] if scores is not None else None\n",
    "        if score is None or score < scores_thresh:\n",
    "            continue\n",
    "\n",
    "        label = class_names[class_id]\n",
    "        if (filter_classs_names is not None) and (label not in filter_classs_names):\n",
    "            continue\n",
    "\n",
    "        if not np.any(boxes[i]):\n",
    "            # Skip this instance. Has no bbox. Likely lost in image cropping.\n",
    "            continue\n",
    "\n",
    "        useful_mask_indices.append(i)\n",
    "\n",
    "    if len(useful_mask_indices) == 0:\n",
    "        print(\"\\n*** No instances in image %s to draw *** \\n\" % (image_name))\n",
    "        return\n",
    "\n",
    "    colors = random_colors(len(useful_mask_indices))\n",
    "\n",
    "    if mode != 3:\n",
    "        masked_image = image.astype(np.uint8).copy()\n",
    "    else:\n",
    "        masked_image = np.zeros(image.shape).astype(np.uint8)\n",
    "\n",
    "    if mode != 1:\n",
    "        for index, value in enumerate(useful_mask_indices):\n",
    "            masked_image = apply_mask(masked_image, masks[:, :, value], colors[index])\n",
    "\n",
    "    masked_image = Image.fromarray(masked_image)\n",
    "\n",
    "    if mode == 3:\n",
    "        masked_image.save(os.path.join(save_dir, '%s.jpg' % (image_name)))\n",
    "        return\n",
    "\n",
    "    draw = ImageDraw.Draw(masked_image)\n",
    "    colors = np.array(colors).astype(int) * 255\n",
    "\n",
    "    myList = []\n",
    "    countClassIds = 0\n",
    "    \n",
    "    for index, value in enumerate(useful_mask_indices):\n",
    "        class_id = class_ids[value]\n",
    "        print('class_id value is {}'.format(class_id))\n",
    "        if class_id == 1:\n",
    "          countClassIds += 1\n",
    "        print('counter for the class ID {}'.format(countClassIds))\n",
    "        \n",
    "        \n",
    "        score = scores[value]\n",
    "        label = class_names[class_id]\n",
    "\n",
    "        y1, x1, y2, x2 = boxes[value]\n",
    "        \n",
    "#         myList = []\n",
    "        \n",
    "        ## area of the rectangle\n",
    "        yVal = y2 - y1\n",
    "        xVal = x2 - x1\n",
    "        area = xVal * yVal\n",
    "        print('area is {}'.format(area))\n",
    "        myList.append(area)\n",
    "        \n",
    "        if mode != 2:\n",
    "            color = tuple(colors[index])\n",
    "            draw.rectangle((x1, y1, x2, y2), outline=color)\n",
    "\n",
    "        # Label\n",
    "#         font = ImageFont.load('/usr/share/fonts/truetype/ttf-bitstream-vera/Vera.ttf')\n",
    "        font = ImageFont.truetype('OpenSans-Bold.ttf', 15)\n",
    "        draw.text((x1, y1), \"%s %f\" % (label, score), (255, 255, 255), font)\n",
    "\n",
    "    print(r['class_ids'], r['scores'])\n",
    "    print(myList)\n",
    "#     print('value of r is {}'.format(r))\n",
    "    print('image_name is {}'.format(image_name))\n",
    "\n",
    "    image_name = os.path.basename(image_name)\n",
    "    print('image name is {}'.format(image_name))\n",
    "\n",
    "    f_name, f_ext = os.path.splitext(image_name)\n",
    "    #f_lat_val,f_long_val,f_count = f_name.split('-')\n",
    "\n",
    "    #f_lat_val = f_lat_val.strip() ##removing the white Space\n",
    "    #f_long_val = f_long_val.strip()\n",
    "\n",
    "#     new_name = '{}-{}-{}.jpg'.format(f_lat_val,f_long_val,count)\n",
    "#     print([area for area in myList if ])\n",
    "#       print([i for i in range(countClassIds) ])\n",
    "      \n",
    "    print(\"avi96 {}\".format(myList[:countClassIds]))\n",
    "#     myList.pop(countClassIds - 1)\n",
    "    \n",
    "    new_name = '{}-{}.jpg'.format(myList, r['scores'])\n",
    "#     masked_image.save(os.path.join(save_dir, '%s.jpg' % (image_name)))\n",
    "    print(\"New Name file is {}\".format(new_name))\n",
    "    print('save_dir is {}'.format(save_dir))\n",
    "    masked_image.save(os.path.join(save_dir, '%s' % (new_name)))\n",
    "    print('file Saved {}'.format(new_name))\n",
    "#     os.rename(image_name, new_name)\n",
    "\n",
    "\n",
    "\n",
    "if __name__ == '__main__':\n",
    "    \"\"\"\n",
    "        test everything\n",
    "    \"\"\"\n",
    "    import os\n",
    "    import sys\n",
    "    import custom\n",
    "    import utils\n",
    "    import model as modellib\n",
    "    #import visualize\n",
    "\n",
    "    # We use a K80 GPU with 24GB memory, which can fit 3 images.\n",
    "    batch_size = 3\n",
    "\n",
    "    ROOT_DIR = os.getcwd()\n",
    "    MODEL_DIR = os.path.join(ROOT_DIR, \"logs\")\n",
    "    VIDEO_DIR = os.path.join(ROOT_DIR, \"videos\")\n",
    "    VIDEO_SAVE_DIR = os.path.join(VIDEO_DIR, \"save\")\n",
    "#     COCO_MODEL_PATH = os.path.join(ROOT_DIR, \"mask_rcnn_damage_0010.h5\")\n",
    "#     if not os.path.exists(COCO_MODEL_PATH):\n",
    "#         utils.download_trained_weights(COCO_MODEL_PATH)\n",
    "\n",
    "    class InferenceConfig(custom.CustomConfig):\n",
    "        GPU_COUNT = 1\n",
    "        IMAGES_PER_GPU = batch_size\n",
    "\n",
    "    config = InferenceConfig()\n",
    "    config.display()\n",
    "\n",
    "    model = modellib.MaskRCNN(\n",
    "        mode=\"inference\", model_dir=MODEL_DIR, config=config\n",
    "    )\n",
    "    model.load_weights(\"logs/mask_rcnn_damage_0160.h5\", by_name=True)\n",
    "    class_names = [\n",
    "        'BG', 'damage'\n",
    "    ]\n",
    "\n",
    "#     capture = cv2.VideoCapture(os.path.join(VIDEO_DIR, 'trailer1.mp4'))\n",
    "    try:\n",
    "        if not os.path.exists(VIDEO_SAVE_DIR):\n",
    "            os.makedirs(VIDEO_SAVE_DIR)\n",
    "    except OSError:\n",
    "        print ('Error: Creating directory of data')\n",
    "\n",
    "    # points to be done before final coding\n",
    "    \"\"\"\n",
    "    path_for_image_dir\n",
    "    list for the image array\n",
    "    resolve for naming convention for location basis\n",
    "    passing image in model\n",
    "    \"\"\"\n",
    "\n",
    "    # path for the data files\n",
    "    data_path = '/content/Mask_RCNN/S3_Images/images/'\n",
    "    onlyfiles = [f for f in os.listdir(data_path) if os.path.isfile(os.path.join(data_path, f))]\n",
    "\n",
    "    # empty list for the training data\n",
    "    frames = []\n",
    "    frame_count = 0\n",
    "    batch_count = 1\n",
    "\n",
    "    # enumerate the iteration with number of files\n",
    "    for j, files in enumerate(onlyfiles):\n",
    "        image_path = data_path + onlyfiles[j]\n",
    "#         print(\"image Path {}\".format(image_path))\n",
    "#         print(\"Only Files {}\".format(onlyfiles[j]))\n",
    "#         print('j is {}'.format(j))\n",
    "#         print('files is {}'.format(files))\n",
    "        try:\n",
    "            images = cv2.imread(image_path).astype(np.uint8)\n",
    "#             print(\"images {}\".format(images))\n",
    "            frames.append(np.asarray(images, dtype=np.uint8))\n",
    "  #         frames.append(images)\n",
    "            frame_count += 1\n",
    "            print('frame_count :{0}'.format(frame_count))\n",
    "            if len(frames) == batch_size:\n",
    "                results = model.detect(frames, verbose=0)\n",
    "                print('Predicted')\n",
    "                for i, item in enumerate(zip(frames, results)):\n",
    "#                     print('i is {}'.format(i))\n",
    "#                     print('item is {}'.format(item))\n",
    "                    frame = item[0]\n",
    "                    r = item[1]\n",
    "                    frame = display_instances(\n",
    "                      frame, r['rois'], r['masks'], r['class_ids'], class_names, r['scores']\n",
    "                    )\n",
    "                    name = '{}'.format(files)\n",
    "                    name = os.path.join(VIDEO_SAVE_DIR, name)\n",
    "#                     name = '{0}.jpg'.format(frame_count + i - batch_size)\n",
    "#                     name = os.path.join(VIDEO_SAVE_DIR, name)\n",
    "#                   cv2.imwrite(name, frame)\n",
    "#                     print(name)\n",
    "                    print('writing to file:{0}'.format(name))\n",
    "#                     print(name)\n",
    "                    save_image(images, name, r['rois'], r['masks'], r['class_ids'],\n",
    "                             r['scores'], class_names, save_dir=VIDEO_SAVE_DIR, mode=0)\n",
    "                frames = []\n",
    "                print('clear')\n",
    "              # clear the frames here\n",
    "\n",
    "        except(AttributeError) as e:\n",
    "            print('Bad Image {}'.format(image_path))\n",
    "\n",
    "    print(\"Success, check the folder\")\n",
    "\n",
    "\n",
    "\"\"\"\n",
    "    ## Code for the video section\n",
    "    frames = []\n",
    "    frame_count = 0\n",
    "    # these 2 lines can be removed if you dont have a 1080p camera.\n",
    "    capture.set(cv2.CAP_PROP_FRAME_WIDTH, 1920)\n",
    "    capture.set(cv2.CAP_PROP_FRAME_HEIGHT, 1080)\n",
    "\n",
    "\n",
    "    while True:\n",
    "        ret, frame = capture.read()\n",
    "        # Bail out when the video file ends\n",
    "        if not ret:\n",
    "            break\n",
    "\n",
    "        # Save each frame of the video to a list\n",
    "        frame_count += 1\n",
    "        frames.append(frame)\n",
    "        print('frame_count :{0}'.format(frame_count))\n",
    "        if len(frames) == batch_size:\n",
    "            results = model.detect(frames, verbose=0)\n",
    "            print('Predicted')\n",
    "            for i, item in enumerate(zip(frames, results)):\n",
    "                frame = item[0]\n",
    "                r = item[1]\n",
    "                frame = display_instances(\n",
    "                    frame, r['rois'], r['masks'], r['class_ids'], class_names, r['scores']\n",
    "                )\n",
    "#                 name = '{0}.jpg'.format(frame_count + i - batch_size)\n",
    "#                 name = os.path.join(VIDEO_SAVE_DIR, name)\n",
    "#                 cv2.imwrite(name, frame)\n",
    "#                 print('writing to file:{0}'.format(name))\n",
    "                ## add visualise files\n",
    "#                 visualize.display_instances(image, r['rois'], r['masks'], r['class_ids'],\n",
    "#                             class_names, r['scores'])\n",
    "                save_image(image, name, r['rois'], r['masks'], r['class_ids'],\n",
    "                                     r['scores'],class_names, save_dir=VIDEO_SAVE_DIR, mode=0)\n",
    "#                 print(r['class_ids'], r['scores'])\n",
    "\n",
    "            # Clear the frames array to start the next batch\n",
    "            frames = []\n",
    "\n",
    "    capture.release()\n",
    "\"\"\""
   ]
  },
  {
   "cell_type": "code",
   "execution_count": 73,
   "metadata": {
    "colab": {
     "base_uri": "https://localhost:8080/",
     "height": 357
    },
    "colab_type": "code",
    "id": "cl-Hh5MdKOaD",
    "outputId": "73409040-5ae5-4188-85d4-5dd246755a2a"
   },
   "outputs": [
    {
     "name": "stdout",
     "output_type": "stream",
     "text": [
      "'[100835, 4752, 31860]-[0.99894387 0.9983626  0.99591905].jpg'\n",
      "'[13719, 10044, 17577, 9504, 3774]-[0.99999344 0.9999933  0.99996066 0.99993455 0.99992   ].jpg'\n",
      "'[1560]-[0.99997425].jpg'\n",
      "'[250, 260]-[0.9999243 0.8455281].jpg'\n",
      "'[250, 720]-[0.98426384 0.9620987 ].jpg'\n",
      "'[264]-[0.8035971].jpg'\n",
      "'[2775]-[0.9999815].jpg'\n",
      "'[286, 330, 416, 418]-[0.98072284 0.92764556 0.87470007 0.873562  ].jpg'\n",
      "'[290]-[0.9997447].jpg'\n",
      "'[3024]-[0.999912].jpg'\n",
      "'[319]-[0.9997627].jpg'\n",
      "'[384, 1449]-[0.997591  0.8543571].jpg'\n",
      "'[429]-[0.9999603].jpg'\n",
      "'[440]-[0.9712983].jpg'\n",
      "'[4556]-[0.99999726].jpg'\n",
      "'[480, 416]-[0.99973744 0.98802954].jpg'\n",
      "'[4935]-[0.9999962].jpg'\n",
      "'[546]-[0.9994134].jpg'\n",
      "'[816, 176]-[0.99922216 0.99323297].jpg'\n",
      "'[85, 196, 75]-[0.9978288  0.9905183  0.98221266].jpg'\n"
     ]
    }
   ],
   "source": [
    "!ls /content/Mask_RCNN/videos/save/"
   ]
  },
  {
   "cell_type": "code",
   "execution_count": 74,
   "metadata": {
    "colab": {
     "base_uri": "https://localhost:8080/",
     "height": 394
    },
    "colab_type": "code",
    "id": "RagZaJY5KcMx",
    "outputId": "5f0b4e82-5b3d-420c-de11-d29d003d7f64"
   },
   "outputs": [
    {
     "name": "stdout",
     "output_type": "stream",
     "text": [
      "  adding: content/Mask_RCNN/videos/save/ (stored 0%)\n",
      "  adding: content/Mask_RCNN/videos/save/[4556]-[0.99999726].jpg (deflated 0%)\n",
      "  adding: content/Mask_RCNN/videos/save/[100835, 4752, 31860]-[0.99894387 0.9983626  0.99591905].jpg (deflated 0%)\n",
      "  adding: content/Mask_RCNN/videos/save/[250, 260]-[0.9999243 0.8455281].jpg (deflated 1%)\n",
      "  adding: content/Mask_RCNN/videos/save/[3024]-[0.999912].jpg (deflated 1%)\n",
      "  adding: content/Mask_RCNN/videos/save/[384, 1449]-[0.997591  0.8543571].jpg (deflated 1%)\n",
      "  adding: content/Mask_RCNN/videos/save/[264]-[0.8035971].jpg (deflated 0%)\n",
      "  adding: content/Mask_RCNN/videos/save/[1560]-[0.99997425].jpg (deflated 1%)\n",
      "  adding: content/Mask_RCNN/videos/save/[250, 720]-[0.98426384 0.9620987 ].jpg (deflated 1%)\n",
      "  adding: content/Mask_RCNN/videos/save/[816, 176]-[0.99922216 0.99323297].jpg (deflated 1%)\n",
      "  adding: content/Mask_RCNN/videos/save/[4935]-[0.9999962].jpg (deflated 1%)\n",
      "  adding: content/Mask_RCNN/videos/save/[319]-[0.9997627].jpg (deflated 0%)\n",
      "  adding: content/Mask_RCNN/videos/save/[429]-[0.9999603].jpg (deflated 1%)\n",
      "  adding: content/Mask_RCNN/videos/save/[286, 330, 416, 418]-[0.98072284 0.92764556 0.87470007 0.873562  ].jpg (deflated 1%)\n",
      "  adding: content/Mask_RCNN/videos/save/[2775]-[0.9999815].jpg (deflated 1%)\n",
      "  adding: content/Mask_RCNN/videos/save/[440]-[0.9712983].jpg (deflated 2%)\n",
      "  adding: content/Mask_RCNN/videos/save/[480, 416]-[0.99973744 0.98802954].jpg (deflated 1%)\n",
      "  adding: content/Mask_RCNN/videos/save/[85, 196, 75]-[0.9978288  0.9905183  0.98221266].jpg (deflated 1%)\n",
      "  adding: content/Mask_RCNN/videos/save/[13719, 10044, 17577, 9504, 3774]-[0.99999344 0.9999933  0.99996066 0.99993455 0.99992   ].jpg (deflated 1%)\n",
      "  adding: content/Mask_RCNN/videos/save/[546]-[0.9994134].jpg (deflated 2%)\n",
      "  adding: content/Mask_RCNN/videos/save/[290]-[0.9997447].jpg (deflated 1%)\n"
     ]
    }
   ],
   "source": [
    "!zip -r save.zip /content/Mask_RCNN/videos/save/"
   ]
  },
  {
   "cell_type": "code",
   "execution_count": 0,
   "metadata": {
    "colab": {},
    "colab_type": "code",
    "id": "84SEghTsKebm"
   },
   "outputs": [],
   "source": []
  }
 ],
 "metadata": {
  "accelerator": "GPU",
  "colab": {
   "include_colab_link": true,
   "name": "Final file for tata innoverse.ipynb",
   "provenance": [],
   "version": "0.3.2"
  },
  "kernelspec": {
   "display_name": "Python 3",
   "language": "python",
   "name": "python3"
  },
  "language_info": {
   "codemirror_mode": {
    "name": "ipython",
    "version": 3
   },
   "file_extension": ".py",
   "mimetype": "text/x-python",
   "name": "python",
   "nbconvert_exporter": "python",
   "pygments_lexer": "ipython3",
   "version": "3.7.4"
  }
 },
 "nbformat": 4,
 "nbformat_minor": 1
}
